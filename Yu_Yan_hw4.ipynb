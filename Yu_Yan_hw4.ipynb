{
 "cells": [
  {
   "cell_type": "code",
   "execution_count": 1,
   "id": "43e582d6",
   "metadata": {},
   "outputs": [],
   "source": [
    "import numpy as np\n",
    "import pandas as pd\n",
    "from tqdm import tqdm"
   ]
  },
  {
   "cell_type": "code",
   "execution_count": 2,
   "id": "3758212d",
   "metadata": {},
   "outputs": [],
   "source": [
    "train = pd.read_csv(\"jigsaw-train.csv\")\n",
    "dev = pd.read_csv(\"jigsaw-dev.csv\")\n",
    "test = pd.read_csv(\"jigsaw-test.csv\")"
   ]
  },
  {
   "cell_type": "code",
   "execution_count": null,
   "id": "b6465a34",
   "metadata": {},
   "outputs": [],
   "source": []
  },
  {
   "cell_type": "markdown",
   "id": "cdfc409a",
   "metadata": {},
   "source": [
    "# Part 1"
   ]
  },
  {
   "cell_type": "markdown",
   "id": "b6e8b3b7",
   "metadata": {},
   "source": [
    "### Problem 1"
   ]
  },
  {
   "cell_type": "code",
   "execution_count": 191,
   "id": "6e2462d9",
   "metadata": {},
   "outputs": [],
   "source": [
    "from transformers import AutoTokenizer\n",
    "\n",
    "BASE_MODEL = \"microsoft/MiniLM-L12-H384-uncased\"\n",
    "\n",
    "# Load the pre-trained tokenizer\n",
    "tokenizer = AutoTokenizer.from_pretrained(BASE_MODEL)"
   ]
  },
  {
   "cell_type": "code",
   "execution_count": 192,
   "id": "ce8e5365",
   "metadata": {},
   "outputs": [],
   "source": [
    "def test_tokenize(input_word):\n",
    "    return tokenizer.tokenize(input_word)"
   ]
  },
  {
   "cell_type": "code",
   "execution_count": null,
   "id": "eb28827d",
   "metadata": {},
   "outputs": [],
   "source": []
  },
  {
   "cell_type": "markdown",
   "id": "f8e77944",
   "metadata": {},
   "source": [
    "###  Problem 2 Prompt-based Learning"
   ]
  },
  {
   "cell_type": "code",
   "execution_count": 193,
   "id": "ca803a29",
   "metadata": {},
   "outputs": [],
   "source": [
    "def sample_train(train,num):\n",
    "    label_rows = train.drop_duplicates(subset='toxic')\n",
    "    remaining_rows = train[~train.index.isin(label_rows.index)]\n",
    "    sample_size = int(num)\n",
    "    sample_remaining = remaining_rows.sample(n=sample_size)\n",
    "    sample_train = pd.concat([label_rows, sample_remaining])\n",
    "    \n",
    "    return sample_train"
   ]
  },
  {
   "cell_type": "code",
   "execution_count": 194,
   "id": "8974763c",
   "metadata": {},
   "outputs": [],
   "source": [
    "def sample_dev(dev,percentage):\n",
    "    label_rows = dev.drop_duplicates(subset='toxic')\n",
    "    remaining_rows = dev[~dev.index.isin(label_rows.index)]\n",
    "    sample_size = int(percentage * len(remaining_rows))\n",
    "    sample_remaining = remaining_rows.sample(n=sample_size)\n",
    "    sample_dev = pd.concat([label_rows, sample_remaining])\n",
    "    \n",
    "    return sample_dev"
   ]
  },
  {
   "cell_type": "code",
   "execution_count": 195,
   "id": "04b45b75",
   "metadata": {},
   "outputs": [],
   "source": [
    "def get_test_fscore(ground_true, list_zero):\n",
    "    true_positive = 0\n",
    "    false_positive = 0\n",
    "    false_negative = 0\n",
    "\n",
    "    for i in range(len(list_zero)):\n",
    "\n",
    "        if ground_true[i] == 1 and list_zero[i] == 1:\n",
    "            true_positive = true_positive+1\n",
    "        elif list_zero[i] == 1 and ground_true[i] == 0:\n",
    "            false_positive = false_positive + 1\n",
    "        elif list_zero[i] == 0 and ground_true[i] == 1:\n",
    "            false_negative = false_negative+1\n",
    "    if true_positive+false_positive == 0 or true_positive+false_negative == 0:\n",
    "        return 0\n",
    "    else:\n",
    "        Precision = true_positive/(true_positive+false_positive)\n",
    "        Recall = true_positive/(true_positive+false_negative)\n",
    "        F1_Score = 2 * (Precision * Recall) / (Precision + Recall)\n",
    "        return F1_Score"
   ]
  },
  {
   "cell_type": "code",
   "execution_count": 196,
   "id": "c63b78b7",
   "metadata": {
    "scrolled": false
   },
   "outputs": [],
   "source": [
    "from openprompt.data_utils import InputExample\n",
    "from openprompt.plms import load_plm\n",
    "from openprompt.prompts import ManualTemplate\n",
    "from openprompt import PromptDataLoader\n",
    "from openprompt.prompts import ManualVerbalizer\n",
    "from openprompt import PromptForClassification\n",
    "import torch"
   ]
  },
  {
   "cell_type": "code",
   "execution_count": 197,
   "id": "cdef2b22",
   "metadata": {},
   "outputs": [],
   "source": [
    "def get_result_few_shot(train,dev,num_train,num_dev,prompt,toxic_verb,non_toxic_verb):\n",
    "    train = sample_train(train,num_train)\n",
    "    train = train.reset_index()\n",
    "    \n",
    "    dev = sample_dev(dev,num_dev)\n",
    "    dev = dev.reset_index()\n",
    "    \n",
    "    dataset = {}\n",
    "    dataset[\"train\"] = []\n",
    "    dataset[\"validation\"] = []\n",
    "    for i in range(len(train)):\n",
    "        input_example = InputExample(text_a = train[\"comment_text\"][i], label=int(train[\"toxic\"][i]), guid=train[\"id\"][i])\n",
    "        dataset[\"train\"].append(input_example)\n",
    "\n",
    "    for i in range(len(dev)):\n",
    "        input_example = InputExample(text_a = dev[\"comment_text\"][i], label=int(dev[\"toxic\"][i]), guid=dev[\"id\"][i])\n",
    "        dataset[\"validation\"].append(input_example)\n",
    "        \n",
    "    plm, tokenizer, model_config, WrapperClass = load_plm(\"bert\", \"microsoft/MiniLM-L12-H384-uncased\")\n",
    "\n",
    "    mytemplate = ManualTemplate(\n",
    "        text = prompt,\n",
    "        tokenizer = tokenizer,\n",
    "    )\n",
    "\n",
    "    wrapped_berttokenizer = WrapperClass(max_seq_length=128, decoder_max_length=3, tokenizer=tokenizer,truncate_method=\"head\")\n",
    "\n",
    "\n",
    "    model_inputs = {}\n",
    "    model_inputs[\"train\"] = []\n",
    "    for sample in dataset[\"train\"]:\n",
    "        tokenized_example = wrapped_berttokenizer.tokenize_one_example(mytemplate.wrap_one_example(sample), teacher_forcing=False)\n",
    "        model_inputs[\"train\"].append(tokenized_example)\n",
    "\n",
    "    train_dataloader = PromptDataLoader(dataset=dataset[\"train\"], template=mytemplate, tokenizer=tokenizer,\n",
    "        tokenizer_wrapper_class=WrapperClass, max_seq_length=256, decoder_max_length=3,\n",
    "        batch_size=4,shuffle=True, teacher_forcing=False, predict_eos_token=False,\n",
    "        truncate_method=\"head\")\n",
    "\n",
    "    classes = [ # There are two classes in Sentiment Analysis, one for negative and one for positive\n",
    "        1,\n",
    "        0\n",
    "    ]\n",
    "\n",
    "    myverbalizer = ManualVerbalizer(\n",
    "        classes = classes,\n",
    "        num_classes = 2,\n",
    "        label_words = {\n",
    "            1: toxic_verb,\n",
    "            0: non_toxic_verb,\n",
    "        },\n",
    "        tokenizer = tokenizer,\n",
    "    )\n",
    "\n",
    "    prompt_model = PromptForClassification(plm=plm,template=mytemplate, verbalizer=myverbalizer, freeze_plm=False)\n",
    "    # Now the training is standard\n",
    "    from transformers import  AdamW, get_linear_schedule_with_warmup\n",
    "    loss_func = torch.nn.CrossEntropyLoss()\n",
    "    no_decay = ['bias', 'LayerNorm.weight']\n",
    "    # it's always good practice to set no decay to biase and LayerNorm parameters\n",
    "    optimizer_grouped_parameters = [\n",
    "        {'params': [p for n, p in prompt_model.named_parameters() if not any(nd in n for nd in no_decay)], 'weight_decay': 0.01},\n",
    "        {'params': [p for n, p in prompt_model.named_parameters() if any(nd in n for nd in no_decay)], 'weight_decay': 0.0}\n",
    "    ]\n",
    "\n",
    "    optimizer = AdamW(optimizer_grouped_parameters, lr=1e-4)\n",
    "\n",
    "    for epoch in range(5):\n",
    "        tot_loss = 0\n",
    "        for step, inputs in enumerate(train_dataloader):\n",
    "            logits = prompt_model(inputs)\n",
    "            labels = inputs['label']\n",
    "            loss = loss_func(logits, labels)\n",
    "            loss.backward()\n",
    "            tot_loss += loss.item()\n",
    "            optimizer.step()\n",
    "            optimizer.zero_grad()\n",
    "            if step+1 %100 ==1:\n",
    "                print(\"Epoch {}, average loss: {}\".format(epoch+1, tot_loss/(step+1)), flush=True)\n",
    "\n",
    "    # Evaluate\n",
    "    validation_dataloader = PromptDataLoader(dataset=dataset[\"validation\"], template=mytemplate, tokenizer=tokenizer,\n",
    "        tokenizer_wrapper_class=WrapperClass, max_seq_length=256, decoder_max_length=3,\n",
    "        batch_size=4,shuffle=False, teacher_forcing=False, predict_eos_token=False,\n",
    "        truncate_method=\"head\")\n",
    "\n",
    "    allpreds = []\n",
    "    alllabels = []\n",
    "    for step, inputs in tqdm(enumerate(validation_dataloader)):\n",
    "        logits = prompt_model(inputs)\n",
    "        labels = inputs['label']\n",
    "        alllabels.extend(labels.cpu().tolist())\n",
    "        allpreds.extend(torch.argmax(logits, dim=-1).cpu().tolist())\n",
    "    \n",
    "    f1_score = get_test_fscore(alllabels, allpreds)\n",
    "    \n",
    "    print(f\"F1_score = {f1_score}\")"
   ]
  },
  {
   "cell_type": "code",
   "execution_count": null,
   "id": "dc87daee",
   "metadata": {},
   "outputs": [],
   "source": []
  },
  {
   "cell_type": "markdown",
   "id": "73e6f9d2",
   "metadata": {},
   "source": [
    "#### prompt 1"
   ]
  },
  {
   "cell_type": "code",
   "execution_count": 97,
   "id": "1c14459d",
   "metadata": {},
   "outputs": [
    {
     "data": {
      "text/plain": [
       "['offensive']"
      ]
     },
     "execution_count": 97,
     "metadata": {},
     "output_type": "execute_result"
    }
   ],
   "source": [
    "test_tokenize(\"offensive\")"
   ]
  },
  {
   "cell_type": "code",
   "execution_count": 98,
   "id": "a0c9de80",
   "metadata": {},
   "outputs": [
    {
     "data": {
      "text/plain": [
       "['harmful']"
      ]
     },
     "execution_count": 98,
     "metadata": {},
     "output_type": "execute_result"
    }
   ],
   "source": [
    "test_tokenize(\"harmful\")"
   ]
  },
  {
   "cell_type": "code",
   "execution_count": 99,
   "id": "ea28cbce",
   "metadata": {},
   "outputs": [
    {
     "data": {
      "text/plain": [
       "['ironic']"
      ]
     },
     "execution_count": 99,
     "metadata": {},
     "output_type": "execute_result"
    }
   ],
   "source": [
    "test_tokenize(\"ironic\")"
   ]
  },
  {
   "cell_type": "code",
   "execution_count": 100,
   "id": "9206e8af",
   "metadata": {},
   "outputs": [
    {
     "data": {
      "text/plain": [
       "['respectful']"
      ]
     },
     "execution_count": 100,
     "metadata": {},
     "output_type": "execute_result"
    }
   ],
   "source": [
    "test_tokenize(\"respectful\")"
   ]
  },
  {
   "cell_type": "code",
   "execution_count": 101,
   "id": "ca69d306",
   "metadata": {},
   "outputs": [
    {
     "data": {
      "text/plain": [
       "['objective']"
      ]
     },
     "execution_count": 101,
     "metadata": {},
     "output_type": "execute_result"
    }
   ],
   "source": [
    "test_tokenize(\"objective\")"
   ]
  },
  {
   "cell_type": "code",
   "execution_count": 102,
   "id": "362f19c6",
   "metadata": {},
   "outputs": [
    {
     "data": {
      "text/plain": [
       "['calm']"
      ]
     },
     "execution_count": 102,
     "metadata": {},
     "output_type": "execute_result"
    }
   ],
   "source": [
    "test_tokenize(\"calm\")"
   ]
  },
  {
   "cell_type": "code",
   "execution_count": 84,
   "id": "67f2ae61",
   "metadata": {},
   "outputs": [
    {
     "name": "stderr",
     "output_type": "stream",
     "text": [
      "Some weights of BertForMaskedLM were not initialized from the model checkpoint at microsoft/MiniLM-L12-H384-uncased and are newly initialized: ['cls.predictions.transform.dense.bias', 'cls.predictions.transform.LayerNorm.weight', 'cls.predictions.transform.dense.weight', 'cls.predictions.transform.LayerNorm.bias', 'cls.predictions.bias']\n",
      "You should probably TRAIN this model on a down-stream task to be able to use it for predictions and inference.\n",
      "tokenizing: 12it [00:00, 645.77it/s]\n"
     ]
    },
    {
     "name": "stdout",
     "output_type": "stream",
     "text": [
      "Epoch 1, average loss: 0.6162680387496948\n",
      "Epoch 2, average loss: 0.3228189945220947\n",
      "Epoch 3, average loss: 0.11264178156852722\n",
      "Epoch 4, average loss: 0.01819198951125145\n",
      "Epoch 5, average loss: 0.004617789294570684\n"
     ]
    },
    {
     "name": "stderr",
     "output_type": "stream",
     "text": [
      "tokenizing: 3198it [00:05, 564.14it/s]\n",
      "800it [01:18, 10.14it/s]"
     ]
    },
    {
     "name": "stdout",
     "output_type": "stream",
     "text": [
      "F1_score = 0.20446096654275092\n"
     ]
    },
    {
     "name": "stderr",
     "output_type": "stream",
     "text": [
      "\n"
     ]
    }
   ],
   "source": [
    "get_result_few_shot(train,dev,10,0.1,'{\"placeholder\":\"text_a\"}. Overall, the sentence shows {\"mask\"} meaning',[\"offensive\", \"harmful\",\"ironic\"],[\"respectful\", \"objective\", \"calm\"])\n"
   ]
  },
  {
   "cell_type": "code",
   "execution_count": 85,
   "id": "01fddf25",
   "metadata": {},
   "outputs": [
    {
     "name": "stderr",
     "output_type": "stream",
     "text": [
      "Some weights of BertForMaskedLM were not initialized from the model checkpoint at microsoft/MiniLM-L12-H384-uncased and are newly initialized: ['cls.predictions.transform.dense.bias', 'cls.predictions.transform.LayerNorm.weight', 'cls.predictions.transform.dense.weight', 'cls.predictions.transform.LayerNorm.bias', 'cls.predictions.bias']\n",
      "You should probably TRAIN this model on a down-stream task to be able to use it for predictions and inference.\n",
      "tokenizing: 52it [00:00, 441.13it/s]\n"
     ]
    },
    {
     "name": "stdout",
     "output_type": "stream",
     "text": [
      "Epoch 1, average loss: 0.2239687293767929\n",
      "Epoch 2, average loss: 0.14414533972740173\n",
      "Epoch 3, average loss: 0.11475841701030731\n",
      "Epoch 4, average loss: 0.07157189399003983\n",
      "Epoch 5, average loss: 0.026623627170920372\n"
     ]
    },
    {
     "name": "stderr",
     "output_type": "stream",
     "text": [
      "tokenizing: 3198it [00:05, 544.03it/s]\n",
      "800it [01:19, 10.08it/s]\n"
     ]
    },
    {
     "name": "stdout",
     "output_type": "stream",
     "text": [
      "F1_score = 0.2506811989100817\n"
     ]
    }
   ],
   "source": [
    "get_result_few_shot(train,dev,50,0.1,'{\"placeholder\":\"text_a\"}. Overall, the sentence shows {\"mask\"} meaning',[\"offensive\", \"harmful\",\"ironic\"],[\"respectful\", \"objective\", \"calm\"])\n"
   ]
  },
  {
   "cell_type": "code",
   "execution_count": 86,
   "id": "0e2b4673",
   "metadata": {},
   "outputs": [
    {
     "name": "stderr",
     "output_type": "stream",
     "text": [
      "Some weights of BertForMaskedLM were not initialized from the model checkpoint at microsoft/MiniLM-L12-H384-uncased and are newly initialized: ['cls.predictions.transform.dense.bias', 'cls.predictions.transform.LayerNorm.weight', 'cls.predictions.transform.dense.weight', 'cls.predictions.transform.LayerNorm.bias', 'cls.predictions.bias']\n",
      "You should probably TRAIN this model on a down-stream task to be able to use it for predictions and inference.\n",
      "tokenizing: 102it [00:00, 577.27it/s]\n"
     ]
    },
    {
     "name": "stdout",
     "output_type": "stream",
     "text": [
      "Epoch 1, average loss: 1.3413636684417725\n",
      "Epoch 2, average loss: 0.05031544715166092\n",
      "Epoch 3, average loss: 0.03141243755817413\n",
      "Epoch 4, average loss: 0.0790688544511795\n",
      "Epoch 5, average loss: 1.567199945449829\n"
     ]
    },
    {
     "name": "stderr",
     "output_type": "stream",
     "text": [
      "tokenizing: 3198it [00:05, 550.62it/s]\n",
      "800it [01:21,  9.81it/s]\n"
     ]
    },
    {
     "name": "stdout",
     "output_type": "stream",
     "text": [
      "F1_score = 0.3866666666666666\n"
     ]
    }
   ],
   "source": [
    "get_result_few_shot(train,dev,100,0.1,'{\"placeholder\":\"text_a\"}. Overall, the sentence shows {\"mask\"} meaning',[\"offensive\", \"harmful\",\"ironic\"],[\"respectful\", \"objective\", \"calm\"])\n"
   ]
  },
  {
   "cell_type": "code",
   "execution_count": 119,
   "id": "10ea07bd",
   "metadata": {},
   "outputs": [
    {
     "name": "stderr",
     "output_type": "stream",
     "text": [
      "Some weights of BertForMaskedLM were not initialized from the model checkpoint at microsoft/MiniLM-L12-H384-uncased and are newly initialized: ['cls.predictions.transform.dense.bias', 'cls.predictions.transform.LayerNorm.weight', 'cls.predictions.transform.dense.weight', 'cls.predictions.transform.LayerNorm.bias', 'cls.predictions.bias']\n",
      "You should probably TRAIN this model on a down-stream task to be able to use it for predictions and inference.\n",
      "tokenizing: 502it [00:00, 563.17it/s]\n"
     ]
    },
    {
     "name": "stdout",
     "output_type": "stream",
     "text": [
      "Epoch 1, average loss: 0.578984260559082\n",
      "Epoch 2, average loss: 0.7959566712379456\n",
      "Epoch 3, average loss: 0.046141717582941055\n",
      "Epoch 4, average loss: 0.18834912776947021\n",
      "Epoch 5, average loss: 0.0659426599740982\n"
     ]
    },
    {
     "name": "stderr",
     "output_type": "stream",
     "text": [
      "tokenizing: 3198it [00:05, 558.34it/s]\n",
      "800it [02:06,  6.32it/s]"
     ]
    },
    {
     "name": "stdout",
     "output_type": "stream",
     "text": [
      "F1_score = 0.34615384615384615\n"
     ]
    },
    {
     "name": "stderr",
     "output_type": "stream",
     "text": [
      "\n"
     ]
    }
   ],
   "source": [
    "get_result_few_shot(train,dev,500,0.1,'{\"placeholder\":\"text_a\"}. Overall, the sentence shows {\"mask\"} meaning',[\"offensive\", \"harmful\",\"ironic\"],[\"respectful\", \"objective\", \"calm\"])\n"
   ]
  },
  {
   "cell_type": "code",
   "execution_count": null,
   "id": "ec9c5cdc",
   "metadata": {},
   "outputs": [],
   "source": []
  },
  {
   "cell_type": "markdown",
   "id": "76b4e723",
   "metadata": {},
   "source": [
    "#### prompt 2"
   ]
  },
  {
   "cell_type": "code",
   "execution_count": 89,
   "id": "3df625bd",
   "metadata": {},
   "outputs": [
    {
     "data": {
      "text/plain": [
       "['righteous']"
      ]
     },
     "execution_count": 89,
     "metadata": {},
     "output_type": "execute_result"
    }
   ],
   "source": [
    "test_tokenize(\"righteous\")"
   ]
  },
  {
   "cell_type": "code",
   "execution_count": 120,
   "id": "ec1f08e7",
   "metadata": {},
   "outputs": [
    {
     "name": "stderr",
     "output_type": "stream",
     "text": [
      "Some weights of BertForMaskedLM were not initialized from the model checkpoint at microsoft/MiniLM-L12-H384-uncased and are newly initialized: ['cls.predictions.transform.dense.bias', 'cls.predictions.transform.LayerNorm.weight', 'cls.predictions.transform.dense.weight', 'cls.predictions.transform.LayerNorm.bias', 'cls.predictions.bias']\n",
      "You should probably TRAIN this model on a down-stream task to be able to use it for predictions and inference.\n",
      "tokenizing: 12it [00:00, 688.83it/s]\n"
     ]
    },
    {
     "name": "stdout",
     "output_type": "stream",
     "text": [
      "Epoch 1, average loss: 1.011290431022644\n",
      "Epoch 2, average loss: 0.5768179297447205\n",
      "Epoch 3, average loss: 0.481148898601532\n",
      "Epoch 4, average loss: 0.7684519290924072\n",
      "Epoch 5, average loss: 0.18186447024345398\n"
     ]
    },
    {
     "name": "stderr",
     "output_type": "stream",
     "text": [
      "tokenizing: 3198it [00:05, 545.37it/s]\n",
      "800it [01:48,  7.38it/s]"
     ]
    },
    {
     "name": "stdout",
     "output_type": "stream",
     "text": [
      "F1_score = 0.21662852784134246\n"
     ]
    },
    {
     "name": "stderr",
     "output_type": "stream",
     "text": [
      "\n"
     ]
    }
   ],
   "source": [
    "get_result_few_shot(train,dev,10,0.1,'{\"placeholder\":\"text_a\"}. The sentence contains {\"mask\"} content.',[\"offensive\", \"harmful\", \"ironic\"],[\"respectful\", \"objective\", \"righteous\"])\n"
   ]
  },
  {
   "cell_type": "code",
   "execution_count": 168,
   "id": "89147a9a",
   "metadata": {},
   "outputs": [
    {
     "name": "stderr",
     "output_type": "stream",
     "text": [
      "Some weights of BertForMaskedLM were not initialized from the model checkpoint at microsoft/MiniLM-L12-H384-uncased and are newly initialized: ['cls.predictions.transform.dense.bias', 'cls.predictions.transform.LayerNorm.weight', 'cls.predictions.transform.dense.weight', 'cls.predictions.transform.LayerNorm.bias', 'cls.predictions.bias']\n",
      "You should probably TRAIN this model on a down-stream task to be able to use it for predictions and inference.\n",
      "tokenizing: 52it [00:00, 441.44it/s]\n"
     ]
    },
    {
     "name": "stdout",
     "output_type": "stream",
     "text": [
      "Epoch 1, average loss: 0.6349068880081177\n",
      "Epoch 2, average loss: 1.127171277999878\n",
      "Epoch 3, average loss: 0.5463032722473145\n",
      "Epoch 4, average loss: 0.07323082536458969\n",
      "Epoch 5, average loss: 0.00214298814535141\n"
     ]
    },
    {
     "name": "stderr",
     "output_type": "stream",
     "text": [
      "tokenizing: 3198it [00:06, 515.08it/s]\n",
      "800it [01:11, 11.17it/s]\n"
     ]
    },
    {
     "name": "stdout",
     "output_type": "stream",
     "text": [
      "F1_score = 0.3093333333333333\n"
     ]
    }
   ],
   "source": [
    "get_result_few_shot(train,dev,50,0.1,'{\"placeholder\":\"text_a\"}. The sentence contains {\"mask\"} content.',[\"offensive\", \"harmful\", \"ironic\"],[\"respectful\", \"objective\", \"righteous\"])\n"
   ]
  },
  {
   "cell_type": "code",
   "execution_count": 122,
   "id": "27fe9e20",
   "metadata": {},
   "outputs": [
    {
     "name": "stderr",
     "output_type": "stream",
     "text": [
      "Some weights of BertForMaskedLM were not initialized from the model checkpoint at microsoft/MiniLM-L12-H384-uncased and are newly initialized: ['cls.predictions.transform.dense.bias', 'cls.predictions.transform.LayerNorm.weight', 'cls.predictions.transform.dense.weight', 'cls.predictions.transform.LayerNorm.bias', 'cls.predictions.bias']\n",
      "You should probably TRAIN this model on a down-stream task to be able to use it for predictions and inference.\n",
      "tokenizing: 102it [00:00, 631.53it/s]\n"
     ]
    },
    {
     "name": "stdout",
     "output_type": "stream",
     "text": [
      "Epoch 1, average loss: 0.44197627902030945\n",
      "Epoch 2, average loss: 0.009867089800536633\n",
      "Epoch 3, average loss: 0.10777536779642105\n",
      "Epoch 4, average loss: 0.002364066196605563\n",
      "Epoch 5, average loss: 0.0007725008763372898\n"
     ]
    },
    {
     "name": "stderr",
     "output_type": "stream",
     "text": [
      "tokenizing: 3198it [00:06, 503.59it/s]\n",
      "800it [01:54,  6.96it/s]"
     ]
    },
    {
     "name": "stdout",
     "output_type": "stream",
     "text": [
      "F1_score = 0.40404040404040403\n"
     ]
    },
    {
     "name": "stderr",
     "output_type": "stream",
     "text": [
      "\n"
     ]
    }
   ],
   "source": [
    "get_result_few_shot(train,dev,100,0.1,'{\"placeholder\":\"text_a\"}. The sentence contains {\"mask\"} content.',[\"offensive\", \"harmful\", \"ironic\"],[\"respectful\", \"objective\", \"righteous\"])\n"
   ]
  },
  {
   "cell_type": "code",
   "execution_count": 123,
   "id": "067cfe6e",
   "metadata": {},
   "outputs": [
    {
     "name": "stderr",
     "output_type": "stream",
     "text": [
      "Some weights of BertForMaskedLM were not initialized from the model checkpoint at microsoft/MiniLM-L12-H384-uncased and are newly initialized: ['cls.predictions.transform.dense.bias', 'cls.predictions.transform.LayerNorm.weight', 'cls.predictions.transform.dense.weight', 'cls.predictions.transform.LayerNorm.bias', 'cls.predictions.bias']\n",
      "You should probably TRAIN this model on a down-stream task to be able to use it for predictions and inference.\n",
      "tokenizing: 502it [00:00, 514.11it/s]\n"
     ]
    },
    {
     "name": "stdout",
     "output_type": "stream",
     "text": [
      "Epoch 1, average loss: 0.704562246799469\n",
      "Epoch 2, average loss: 0.07814618945121765\n",
      "Epoch 5, average loss: 0.0024189259856939316\n"
     ]
    },
    {
     "name": "stderr",
     "output_type": "stream",
     "text": [
      "tokenizing: 3198it [00:06, 526.91it/s]\n",
      "800it [01:50,  7.25it/s]"
     ]
    },
    {
     "name": "stdout",
     "output_type": "stream",
     "text": [
      "F1_score = 0.6000000000000001\n"
     ]
    },
    {
     "name": "stderr",
     "output_type": "stream",
     "text": [
      "\n"
     ]
    }
   ],
   "source": [
    "get_result_few_shot(train,dev,500,0.1,'{\"placeholder\":\"text_a\"}. The sentence contains {\"mask\"} content.',[\"offensive\", \"harmful\", \"ironic\"],[\"respectful\", \"objective\", \"righteous\"])\n"
   ]
  },
  {
   "cell_type": "code",
   "execution_count": null,
   "id": "bc5a6f86",
   "metadata": {},
   "outputs": [],
   "source": []
  },
  {
   "cell_type": "markdown",
   "id": "915aca5f",
   "metadata": {},
   "source": [
    "#### prompt 3"
   ]
  },
  {
   "cell_type": "code",
   "execution_count": 90,
   "id": "2be3acda",
   "metadata": {},
   "outputs": [
    {
     "data": {
      "text/plain": [
       "['dismiss']"
      ]
     },
     "execution_count": 90,
     "metadata": {},
     "output_type": "execute_result"
    }
   ],
   "source": [
    "test_tokenize(\"dismiss\")"
   ]
  },
  {
   "cell_type": "code",
   "execution_count": 91,
   "id": "1c6de0c2",
   "metadata": {},
   "outputs": [
    {
     "data": {
      "text/plain": [
       "['blame']"
      ]
     },
     "execution_count": 91,
     "metadata": {},
     "output_type": "execute_result"
    }
   ],
   "source": [
    "test_tokenize(\"blame\")"
   ]
  },
  {
   "cell_type": "code",
   "execution_count": 92,
   "id": "c9889ae1",
   "metadata": {},
   "outputs": [
    {
     "data": {
      "text/plain": [
       "['discourage']"
      ]
     },
     "execution_count": 92,
     "metadata": {},
     "output_type": "execute_result"
    }
   ],
   "source": [
    "test_tokenize(\"discourage\")"
   ]
  },
  {
   "cell_type": "code",
   "execution_count": 95,
   "id": "7e71ad05",
   "metadata": {},
   "outputs": [
    {
     "data": {
      "text/plain": [
       "['respect']"
      ]
     },
     "execution_count": 95,
     "metadata": {},
     "output_type": "execute_result"
    }
   ],
   "source": [
    "test_tokenize(\"respect\")"
   ]
  },
  {
   "cell_type": "code",
   "execution_count": 94,
   "id": "bfc5bbd2",
   "metadata": {},
   "outputs": [
    {
     "data": {
      "text/plain": [
       "['praise']"
      ]
     },
     "execution_count": 94,
     "metadata": {},
     "output_type": "execute_result"
    }
   ],
   "source": [
    "test_tokenize(\"praise\")"
   ]
  },
  {
   "cell_type": "code",
   "execution_count": 103,
   "id": "32339f4d",
   "metadata": {},
   "outputs": [
    {
     "name": "stderr",
     "output_type": "stream",
     "text": [
      "Some weights of BertForMaskedLM were not initialized from the model checkpoint at microsoft/MiniLM-L12-H384-uncased and are newly initialized: ['cls.predictions.transform.dense.bias', 'cls.predictions.transform.LayerNorm.weight', 'cls.predictions.transform.dense.weight', 'cls.predictions.transform.LayerNorm.bias', 'cls.predictions.bias']\n",
      "You should probably TRAIN this model on a down-stream task to be able to use it for predictions and inference.\n",
      "tokenizing: 12it [00:00, 717.40it/s]\n"
     ]
    },
    {
     "name": "stdout",
     "output_type": "stream",
     "text": [
      "Epoch 1, average loss: 0.48932814598083496\n",
      "Epoch 2, average loss: 1.0996630191802979\n",
      "Epoch 3, average loss: 0.15091800689697266\n",
      "Epoch 4, average loss: 0.044643957167863846\n",
      "Epoch 5, average loss: 0.0014356172177940607\n"
     ]
    },
    {
     "name": "stderr",
     "output_type": "stream",
     "text": [
      "tokenizing: 3198it [00:05, 543.50it/s]\n",
      "800it [01:17, 10.38it/s]"
     ]
    },
    {
     "name": "stdout",
     "output_type": "stream",
     "text": [
      "F1_score = 0.24747474747474746\n"
     ]
    },
    {
     "name": "stderr",
     "output_type": "stream",
     "text": [
      "\n"
     ]
    }
   ],
   "source": [
    "get_result_few_shot(train,dev,10,0.1,'{\"placeholder\":\"text_a\"}. The sentence contents {\"mask\"} others.',[\"dismiss\", \"blame\", \"discourage\"],[\"respect\", \"praise\"])\n"
   ]
  },
  {
   "cell_type": "code",
   "execution_count": 104,
   "id": "742e2ba1",
   "metadata": {},
   "outputs": [
    {
     "name": "stderr",
     "output_type": "stream",
     "text": [
      "Some weights of BertForMaskedLM were not initialized from the model checkpoint at microsoft/MiniLM-L12-H384-uncased and are newly initialized: ['cls.predictions.transform.dense.bias', 'cls.predictions.transform.LayerNorm.weight', 'cls.predictions.transform.dense.weight', 'cls.predictions.transform.LayerNorm.bias', 'cls.predictions.bias']\n",
      "You should probably TRAIN this model on a down-stream task to be able to use it for predictions and inference.\n",
      "tokenizing: 52it [00:00, 584.26it/s]\n"
     ]
    },
    {
     "name": "stdout",
     "output_type": "stream",
     "text": [
      "Epoch 1, average loss: 0.47104278206825256\n",
      "Epoch 2, average loss: 0.005094663240015507\n",
      "Epoch 3, average loss: 0.23470842838287354\n",
      "Epoch 4, average loss: 1.2547142505645752\n",
      "Epoch 5, average loss: 0.0026776036247611046\n"
     ]
    },
    {
     "name": "stderr",
     "output_type": "stream",
     "text": [
      "tokenizing: 3198it [00:05, 556.77it/s]\n",
      "800it [01:13, 10.93it/s]\n"
     ]
    },
    {
     "name": "stdout",
     "output_type": "stream",
     "text": [
      "F1_score = 0.37104072398190047\n"
     ]
    }
   ],
   "source": [
    "get_result_few_shot(train,dev,50,0.1,'{\"placeholder\":\"text_a\"}. The sentence contents {\"mask\"} others.',[\"dismiss\", \"blame\", \"discourage\"],[\"respect\", \"praise\"])\n"
   ]
  },
  {
   "cell_type": "code",
   "execution_count": 124,
   "id": "9a7dd804",
   "metadata": {},
   "outputs": [
    {
     "name": "stderr",
     "output_type": "stream",
     "text": [
      "Some weights of BertForMaskedLM were not initialized from the model checkpoint at microsoft/MiniLM-L12-H384-uncased and are newly initialized: ['cls.predictions.transform.dense.bias', 'cls.predictions.transform.LayerNorm.weight', 'cls.predictions.transform.dense.weight', 'cls.predictions.transform.LayerNorm.bias', 'cls.predictions.bias']\n",
      "You should probably TRAIN this model on a down-stream task to be able to use it for predictions and inference.\n",
      "tokenizing: 102it [00:00, 488.87it/s]\n"
     ]
    },
    {
     "name": "stdout",
     "output_type": "stream",
     "text": [
      "Epoch 1, average loss: 0.4631975293159485\n",
      "Epoch 2, average loss: 0.09632903337478638\n",
      "Epoch 3, average loss: 0.04812886565923691\n",
      "Epoch 4, average loss: 0.00028987418045289814\n",
      "Epoch 5, average loss: 0.06535186618566513\n"
     ]
    },
    {
     "name": "stderr",
     "output_type": "stream",
     "text": [
      "tokenizing: 3198it [00:05, 543.16it/s]\n",
      "800it [01:51,  7.19it/s]"
     ]
    },
    {
     "name": "stdout",
     "output_type": "stream",
     "text": [
      "F1_score = 0.4080604534005038\n"
     ]
    },
    {
     "name": "stderr",
     "output_type": "stream",
     "text": [
      "\n"
     ]
    }
   ],
   "source": [
    "get_result_few_shot(train,dev,100,0.1,'{\"placeholder\":\"text_a\"}. The sentence contents {\"mask\"} others.',[\"dismiss\", \"blame\", \"discourage\"],[\"respect\", \"praise\"])\n"
   ]
  },
  {
   "cell_type": "code",
   "execution_count": 111,
   "id": "c12a6773",
   "metadata": {},
   "outputs": [
    {
     "name": "stderr",
     "output_type": "stream",
     "text": [
      "Some weights of BertForMaskedLM were not initialized from the model checkpoint at microsoft/MiniLM-L12-H384-uncased and are newly initialized: ['cls.predictions.transform.dense.bias', 'cls.predictions.transform.LayerNorm.weight', 'cls.predictions.transform.dense.weight', 'cls.predictions.transform.LayerNorm.bias', 'cls.predictions.bias']\n",
      "You should probably TRAIN this model on a down-stream task to be able to use it for predictions and inference.\n",
      "tokenizing: 502it [00:00, 536.70it/s]\n"
     ]
    },
    {
     "name": "stdout",
     "output_type": "stream",
     "text": [
      "Epoch 1, average loss: 1.8510665893554688\n",
      "Epoch 2, average loss: 1.3272705078125\n",
      "Epoch 3, average loss: 0.3245682716369629\n",
      "Epoch 4, average loss: 0.05697108060121536\n",
      "Epoch 5, average loss: 0.008411637507379055\n"
     ]
    },
    {
     "name": "stderr",
     "output_type": "stream",
     "text": [
      "tokenizing: 3198it [00:05, 567.06it/s]\n",
      "800it [01:20,  9.95it/s]"
     ]
    },
    {
     "name": "stdout",
     "output_type": "stream",
     "text": [
      "F1_score = 0.5338983050847457\n"
     ]
    },
    {
     "name": "stderr",
     "output_type": "stream",
     "text": [
      "\n"
     ]
    }
   ],
   "source": [
    "get_result_few_shot(train,dev,500,0.1,'{\"placeholder\":\"text_a\"}. The sentence contains {\"mask\"} content.',[\"dismiss\", \"blame\", \"discourage\"],[\"respect\", \"praise\"])\n"
   ]
  },
  {
   "cell_type": "code",
   "execution_count": null,
   "id": "9a06efa6",
   "metadata": {},
   "outputs": [],
   "source": []
  },
  {
   "cell_type": "markdown",
   "id": "d8cb50f8",
   "metadata": {},
   "source": [
    "#### prompt 4"
   ]
  },
  {
   "cell_type": "code",
   "execution_count": 112,
   "id": "49673d27",
   "metadata": {},
   "outputs": [
    {
     "data": {
      "text/plain": [
       "['angry']"
      ]
     },
     "execution_count": 112,
     "metadata": {},
     "output_type": "execute_result"
    }
   ],
   "source": [
    "test_tokenize(\"angry\")"
   ]
  },
  {
   "cell_type": "code",
   "execution_count": 113,
   "id": "3fb77045",
   "metadata": {},
   "outputs": [
    {
     "data": {
      "text/plain": [
       "['peaceful']"
      ]
     },
     "execution_count": 113,
     "metadata": {},
     "output_type": "execute_result"
    }
   ],
   "source": [
    "test_tokenize(\"peaceful\")"
   ]
  },
  {
   "cell_type": "code",
   "execution_count": 114,
   "id": "ab534436",
   "metadata": {},
   "outputs": [
    {
     "data": {
      "text/plain": [
       "['discouraged']"
      ]
     },
     "execution_count": 114,
     "metadata": {},
     "output_type": "execute_result"
    }
   ],
   "source": [
    "test_tokenize(\"discouraged\")"
   ]
  },
  {
   "cell_type": "code",
   "execution_count": 115,
   "id": "a87de969",
   "metadata": {},
   "outputs": [
    {
     "name": "stderr",
     "output_type": "stream",
     "text": [
      "Some weights of BertForMaskedLM were not initialized from the model checkpoint at microsoft/MiniLM-L12-H384-uncased and are newly initialized: ['cls.predictions.transform.dense.bias', 'cls.predictions.transform.LayerNorm.weight', 'cls.predictions.transform.dense.weight', 'cls.predictions.transform.LayerNorm.bias', 'cls.predictions.bias']\n",
      "You should probably TRAIN this model on a down-stream task to be able to use it for predictions and inference.\n",
      "tokenizing: 12it [00:00, 705.12it/s]\n"
     ]
    },
    {
     "name": "stdout",
     "output_type": "stream",
     "text": [
      "Epoch 1, average loss: 0.47519469261169434\n",
      "Epoch 2, average loss: 0.0248589925467968\n",
      "Epoch 3, average loss: 0.03397197648882866\n",
      "Epoch 4, average loss: 0.03964041545987129\n",
      "Epoch 5, average loss: 0.013737921603024006\n"
     ]
    },
    {
     "name": "stderr",
     "output_type": "stream",
     "text": [
      "tokenizing: 3198it [00:06, 527.25it/s]\n",
      "800it [01:15, 10.53it/s]"
     ]
    },
    {
     "name": "stdout",
     "output_type": "stream",
     "text": [
      "F1_score = 0.26616915422885573\n"
     ]
    },
    {
     "name": "stderr",
     "output_type": "stream",
     "text": [
      "\n"
     ]
    }
   ],
   "source": [
    "get_result_few_shot(train,dev,10,0.1,'{\"placeholder\":\"text_a\"}. If I hear the words above I will be {\"mask\"}.',[\"angry\", \"depressed\", \"discouraged\"],[\"peaceful\", \"calm\"])\n"
   ]
  },
  {
   "cell_type": "code",
   "execution_count": 116,
   "id": "72083194",
   "metadata": {},
   "outputs": [
    {
     "name": "stderr",
     "output_type": "stream",
     "text": [
      "Some weights of BertForMaskedLM were not initialized from the model checkpoint at microsoft/MiniLM-L12-H384-uncased and are newly initialized: ['cls.predictions.transform.dense.bias', 'cls.predictions.transform.LayerNorm.weight', 'cls.predictions.transform.dense.weight', 'cls.predictions.transform.LayerNorm.bias', 'cls.predictions.bias']\n",
      "You should probably TRAIN this model on a down-stream task to be able to use it for predictions and inference.\n",
      "tokenizing: 52it [00:00, 419.35it/s]\n"
     ]
    },
    {
     "name": "stdout",
     "output_type": "stream",
     "text": [
      "Epoch 1, average loss: 0.592880368232727\n",
      "Epoch 2, average loss: 0.7842541933059692\n",
      "Epoch 3, average loss: 0.5422950387001038\n",
      "Epoch 4, average loss: 0.9736071228981018\n",
      "Epoch 5, average loss: 0.03192504495382309\n"
     ]
    },
    {
     "name": "stderr",
     "output_type": "stream",
     "text": [
      "tokenizing: 3198it [00:05, 550.89it/s]\n",
      "800it [01:23,  9.59it/s]\n"
     ]
    },
    {
     "name": "stdout",
     "output_type": "stream",
     "text": [
      "F1_score = 0.35714285714285715\n"
     ]
    }
   ],
   "source": [
    "get_result_few_shot(train,dev,50,0.1,'{\"placeholder\":\"text_a\"}. If I hear the words above I will be {\"mask\"}.',[\"angry\", \"depressed\", \"discouraged\"],[\"peaceful\", \"calm\"])\n"
   ]
  },
  {
   "cell_type": "code",
   "execution_count": 117,
   "id": "8cfe6082",
   "metadata": {},
   "outputs": [
    {
     "name": "stderr",
     "output_type": "stream",
     "text": [
      "Some weights of BertForMaskedLM were not initialized from the model checkpoint at microsoft/MiniLM-L12-H384-uncased and are newly initialized: ['cls.predictions.transform.dense.bias', 'cls.predictions.transform.LayerNorm.weight', 'cls.predictions.transform.dense.weight', 'cls.predictions.transform.LayerNorm.bias', 'cls.predictions.bias']\n",
      "You should probably TRAIN this model on a down-stream task to be able to use it for predictions and inference.\n",
      "tokenizing: 102it [00:00, 543.92it/s]\n"
     ]
    },
    {
     "name": "stdout",
     "output_type": "stream",
     "text": [
      "Epoch 1, average loss: 0.3383324444293976\n",
      "Epoch 2, average loss: 0.15238425135612488\n",
      "Epoch 3, average loss: 0.5374076962471008\n",
      "Epoch 4, average loss: 0.08589183539152145\n",
      "Epoch 5, average loss: 0.1812836229801178\n"
     ]
    },
    {
     "name": "stderr",
     "output_type": "stream",
     "text": [
      "tokenizing: 3198it [00:05, 547.94it/s]\n",
      "800it [01:17, 10.26it/s]\n"
     ]
    },
    {
     "name": "stdout",
     "output_type": "stream",
     "text": [
      "F1_score = 0.47259658580413305\n"
     ]
    }
   ],
   "source": [
    "get_result_few_shot(train,dev,100,0.1,'{\"placeholder\":\"text_a\"}. If I hear the words above I will be {\"mask\"}.',[\"angry\", \"depressed\", \"discouraged\"],[\"peaceful\", \"calm\"])\n"
   ]
  },
  {
   "cell_type": "code",
   "execution_count": 198,
   "id": "4e4e0914",
   "metadata": {},
   "outputs": [
    {
     "name": "stderr",
     "output_type": "stream",
     "text": [
      "Some weights of BertForMaskedLM were not initialized from the model checkpoint at microsoft/MiniLM-L12-H384-uncased and are newly initialized: ['cls.predictions.transform.dense.bias', 'cls.predictions.transform.LayerNorm.weight', 'cls.predictions.transform.dense.weight', 'cls.predictions.transform.LayerNorm.bias', 'cls.predictions.bias']\n",
      "You should probably TRAIN this model on a down-stream task to be able to use it for predictions and inference.\n",
      "tokenizing: 502it [00:00, 584.80it/s]\n"
     ]
    },
    {
     "name": "stdout",
     "output_type": "stream",
     "text": [
      "Epoch 1, average loss: 0.6921087503433228\n",
      "Epoch 2, average loss: 0.19223040342330933\n",
      "Epoch 3, average loss: 0.07272006571292877\n",
      "Epoch 4, average loss: 0.7247632741928101\n",
      "Epoch 5, average loss: 0.0789065957069397\n"
     ]
    },
    {
     "name": "stderr",
     "output_type": "stream",
     "text": [
      "tokenizing: 3198it [00:05, 542.67it/s]\n",
      "800it [01:36,  8.25it/s]\n"
     ]
    },
    {
     "name": "stdout",
     "output_type": "stream",
     "text": [
      "F1_score = 0.5513698630136987\n"
     ]
    }
   ],
   "source": [
    "get_result_few_shot(train,dev,500,0.1,'{\"placeholder\":\"text_a\"}. If I hear the words above I will be {\"mask\"}.',[\"angry\", \"depressed\", \"discouraged\"],[\"peaceful\", \"calm\"])\n"
   ]
  },
  {
   "cell_type": "code",
   "execution_count": null,
   "id": "ad6b5917",
   "metadata": {},
   "outputs": [],
   "source": []
  },
  {
   "cell_type": "markdown",
   "id": "56bab92f",
   "metadata": {},
   "source": [
    "#### prompt 5"
   ]
  },
  {
   "cell_type": "code",
   "execution_count": 107,
   "id": "997ab70d",
   "metadata": {},
   "outputs": [
    {
     "name": "stderr",
     "output_type": "stream",
     "text": [
      "Some weights of BertForMaskedLM were not initialized from the model checkpoint at microsoft/MiniLM-L12-H384-uncased and are newly initialized: ['cls.predictions.transform.dense.bias', 'cls.predictions.transform.LayerNorm.weight', 'cls.predictions.transform.dense.weight', 'cls.predictions.transform.LayerNorm.bias', 'cls.predictions.bias']\n",
      "You should probably TRAIN this model on a down-stream task to be able to use it for predictions and inference.\n",
      "tokenizing: 12it [00:00, 577.82it/s]\n"
     ]
    },
    {
     "name": "stdout",
     "output_type": "stream",
     "text": [
      "Epoch 1, average loss: 0.35602301359176636\n",
      "Epoch 2, average loss: 1.2343670129776\n",
      "Epoch 3, average loss: 0.28149446845054626\n",
      "Epoch 4, average loss: 0.02452394738793373\n",
      "Epoch 5, average loss: 0.009508439339697361\n"
     ]
    },
    {
     "name": "stderr",
     "output_type": "stream",
     "text": [
      "tokenizing: 3198it [00:06, 531.15it/s]\n",
      "800it [01:18, 10.13it/s]"
     ]
    },
    {
     "name": "stdout",
     "output_type": "stream",
     "text": [
      "F1_score = 0.08488063660477453\n"
     ]
    },
    {
     "name": "stderr",
     "output_type": "stream",
     "text": [
      "\n"
     ]
    }
   ],
   "source": [
    "get_result_few_shot(train,dev,10,0.1,'{\"placeholder\":\"text_a\"}. The person who said the sentence above is {\"mask\"}.',[\"angry\", \"ironic\", \"offensive\"],[\"peaceful\", \"calm\", \"kind\"])\n"
   ]
  },
  {
   "cell_type": "code",
   "execution_count": 108,
   "id": "d34be8ac",
   "metadata": {},
   "outputs": [
    {
     "name": "stderr",
     "output_type": "stream",
     "text": [
      "Some weights of BertForMaskedLM were not initialized from the model checkpoint at microsoft/MiniLM-L12-H384-uncased and are newly initialized: ['cls.predictions.transform.dense.bias', 'cls.predictions.transform.LayerNorm.weight', 'cls.predictions.transform.dense.weight', 'cls.predictions.transform.LayerNorm.bias', 'cls.predictions.bias']\n",
      "You should probably TRAIN this model on a down-stream task to be able to use it for predictions and inference.\n",
      "tokenizing: 52it [00:00, 592.77it/s]\n"
     ]
    },
    {
     "name": "stdout",
     "output_type": "stream",
     "text": [
      "Epoch 1, average loss: 0.9092667102813721\n",
      "Epoch 2, average loss: 0.12530800700187683\n",
      "Epoch 3, average loss: 0.024530034512281418\n",
      "Epoch 4, average loss: 0.07548309117555618\n",
      "Epoch 5, average loss: 0.539513111114502\n"
     ]
    },
    {
     "name": "stderr",
     "output_type": "stream",
     "text": [
      "tokenizing: 3198it [00:05, 538.19it/s]\n",
      "800it [01:13, 10.94it/s]"
     ]
    },
    {
     "name": "stdout",
     "output_type": "stream",
     "text": [
      "F1_score = 0.4\n"
     ]
    },
    {
     "name": "stderr",
     "output_type": "stream",
     "text": [
      "\n"
     ]
    }
   ],
   "source": [
    "get_result_few_shot(train,dev,50,0.1,'{\"placeholder\":\"text_a\"}. The person who said the sentence above is {\"mask\"}.',[\"angry\", \"ironic\", \"offensive\"],[\"peaceful\", \"calm\", \"kind\"])\n"
   ]
  },
  {
   "cell_type": "code",
   "execution_count": 169,
   "id": "bb3d2142",
   "metadata": {},
   "outputs": [
    {
     "name": "stderr",
     "output_type": "stream",
     "text": [
      "Some weights of BertForMaskedLM were not initialized from the model checkpoint at microsoft/MiniLM-L12-H384-uncased and are newly initialized: ['cls.predictions.transform.dense.bias', 'cls.predictions.transform.LayerNorm.weight', 'cls.predictions.transform.dense.weight', 'cls.predictions.transform.LayerNorm.bias', 'cls.predictions.bias']\n",
      "You should probably TRAIN this model on a down-stream task to be able to use it for predictions and inference.\n",
      "tokenizing: 102it [00:00, 577.45it/s]\n"
     ]
    },
    {
     "name": "stdout",
     "output_type": "stream",
     "text": [
      "Epoch 1, average loss: 0.5781936049461365\n",
      "Epoch 2, average loss: 0.13281819224357605\n",
      "Epoch 3, average loss: 0.055844131857156754\n",
      "Epoch 4, average loss: 0.01884298026561737\n",
      "Epoch 5, average loss: 0.03556939214468002\n"
     ]
    },
    {
     "name": "stderr",
     "output_type": "stream",
     "text": [
      "tokenizing: 3198it [00:05, 542.24it/s]\n",
      "800it [01:16, 10.43it/s]\n"
     ]
    },
    {
     "name": "stdout",
     "output_type": "stream",
     "text": [
      "F1_score = 0.334140435835351\n"
     ]
    }
   ],
   "source": [
    "get_result_few_shot(train,dev,100,0.1,'{\"placeholder\":\"text_a\"}. The person who said the sentence above is {\"mask\"}.',[\"angry\", \"ironic\", \"offensive\"],[\"peaceful\", \"calm\", \"kind\"])\n"
   ]
  },
  {
   "cell_type": "code",
   "execution_count": 110,
   "id": "c6277e11",
   "metadata": {},
   "outputs": [
    {
     "name": "stderr",
     "output_type": "stream",
     "text": [
      "Some weights of BertForMaskedLM were not initialized from the model checkpoint at microsoft/MiniLM-L12-H384-uncased and are newly initialized: ['cls.predictions.transform.dense.bias', 'cls.predictions.transform.LayerNorm.weight', 'cls.predictions.transform.dense.weight', 'cls.predictions.transform.LayerNorm.bias', 'cls.predictions.bias']\n",
      "You should probably TRAIN this model on a down-stream task to be able to use it for predictions and inference.\n",
      "tokenizing: 502it [00:00, 539.88it/s]\n"
     ]
    },
    {
     "name": "stdout",
     "output_type": "stream",
     "text": [
      "Epoch 1, average loss: 0.5446164608001709\n",
      "Epoch 2, average loss: 0.5870131254196167\n",
      "Epoch 3, average loss: 0.06619705259799957\n",
      "Epoch 4, average loss: 0.012930629774928093\n",
      "Epoch 5, average loss: 0.00043522552005015314\n"
     ]
    },
    {
     "name": "stderr",
     "output_type": "stream",
     "text": [
      "tokenizing: 3198it [00:05, 540.02it/s]\n",
      "800it [01:14, 10.70it/s]\n"
     ]
    },
    {
     "name": "stdout",
     "output_type": "stream",
     "text": [
      "F1_score = 0.5681818181818181\n"
     ]
    }
   ],
   "source": [
    "get_result_few_shot(train,dev,500,0.1,'{\"placeholder\":\"text_a\"}. The person who said the sentence above is {\"mask\"}.',[\"angry\", \"ironic\", \"offensive\"],[\"peaceful\", \"calm\", \"kind\"])\n"
   ]
  },
  {
   "cell_type": "code",
   "execution_count": null,
   "id": "f285624a",
   "metadata": {},
   "outputs": [],
   "source": []
  },
  {
   "cell_type": "markdown",
   "id": "e7733325",
   "metadata": {},
   "source": [
    "#### prompt 6"
   ]
  },
  {
   "cell_type": "code",
   "execution_count": 126,
   "id": "4ed6e5a8",
   "metadata": {},
   "outputs": [
    {
     "data": {
      "text/plain": [
       "['enemies']"
      ]
     },
     "execution_count": 126,
     "metadata": {},
     "output_type": "execute_result"
    }
   ],
   "source": [
    "test_tokenize(\"enemies\")"
   ]
  },
  {
   "cell_type": "code",
   "execution_count": 129,
   "id": "cd24f96d",
   "metadata": {},
   "outputs": [
    {
     "data": {
      "text/plain": [
       "['friends']"
      ]
     },
     "execution_count": 129,
     "metadata": {},
     "output_type": "execute_result"
    }
   ],
   "source": [
    "test_tokenize(\"friends\")"
   ]
  },
  {
   "cell_type": "code",
   "execution_count": 128,
   "id": "12da25e9",
   "metadata": {},
   "outputs": [
    {
     "data": {
      "text/plain": [
       "['lovers']"
      ]
     },
     "execution_count": 128,
     "metadata": {},
     "output_type": "execute_result"
    }
   ],
   "source": [
    "test_tokenize(\"lovers\")"
   ]
  },
  {
   "cell_type": "code",
   "execution_count": 127,
   "id": "c7ec1ad4",
   "metadata": {},
   "outputs": [
    {
     "data": {
      "text/plain": [
       "['rivals']"
      ]
     },
     "execution_count": 127,
     "metadata": {},
     "output_type": "execute_result"
    }
   ],
   "source": [
    "test_tokenize(\"rivals\")"
   ]
  },
  {
   "cell_type": "code",
   "execution_count": 141,
   "id": "86e3be29",
   "metadata": {},
   "outputs": [
    {
     "name": "stderr",
     "output_type": "stream",
     "text": [
      "Some weights of BertForMaskedLM were not initialized from the model checkpoint at microsoft/MiniLM-L12-H384-uncased and are newly initialized: ['cls.predictions.transform.dense.bias', 'cls.predictions.transform.LayerNorm.weight', 'cls.predictions.transform.dense.weight', 'cls.predictions.transform.LayerNorm.bias', 'cls.predictions.bias']\n",
      "You should probably TRAIN this model on a down-stream task to be able to use it for predictions and inference.\n",
      "tokenizing: 12it [00:00, 371.68it/s]\n"
     ]
    },
    {
     "name": "stdout",
     "output_type": "stream",
     "text": [
      "Epoch 1, average loss: 0.5810356736183167\n",
      "Epoch 2, average loss: 0.03409521281719208\n",
      "Epoch 3, average loss: 0.017923492938280106\n",
      "Epoch 4, average loss: 0.04713040590286255\n",
      "Epoch 5, average loss: 0.002651273738592863\n"
     ]
    },
    {
     "name": "stderr",
     "output_type": "stream",
     "text": [
      "tokenizing: 3198it [00:06, 484.35it/s]\n",
      "800it [01:33,  8.52it/s]\n"
     ]
    },
    {
     "name": "stdout",
     "output_type": "stream",
     "text": [
      "F1_score = 0.13513513513513514\n"
     ]
    }
   ],
   "source": [
    "get_result_few_shot(train,dev,10,0.1,'{\"placeholder\":\"text_a\"}. The most likely context for the above conversation to occur is between {\"mask\"}.',[\"enemies\", \"rivals\"],[\"friends\", \"lovers\"])\n"
   ]
  },
  {
   "cell_type": "code",
   "execution_count": 205,
   "id": "9a141389",
   "metadata": {},
   "outputs": [
    {
     "name": "stderr",
     "output_type": "stream",
     "text": [
      "Some weights of BertForMaskedLM were not initialized from the model checkpoint at microsoft/MiniLM-L12-H384-uncased and are newly initialized: ['cls.predictions.transform.dense.bias', 'cls.predictions.transform.LayerNorm.weight', 'cls.predictions.transform.dense.weight', 'cls.predictions.transform.LayerNorm.bias', 'cls.predictions.bias']\n",
      "You should probably TRAIN this model on a down-stream task to be able to use it for predictions and inference.\n",
      "tokenizing: 52it [00:00, 408.22it/s]\n"
     ]
    },
    {
     "name": "stdout",
     "output_type": "stream",
     "text": [
      "Epoch 1, average loss: 0.16565179824829102\n",
      "Epoch 2, average loss: 0.008617420680820942\n",
      "Epoch 3, average loss: 0.01848594844341278\n",
      "Epoch 4, average loss: 0.0009608943946659565\n",
      "Epoch 5, average loss: 7.21482647350058e-05\n"
     ]
    },
    {
     "name": "stderr",
     "output_type": "stream",
     "text": [
      "tokenizing: 3198it [00:06, 529.13it/s]\n",
      "800it [01:26,  9.23it/s]\n"
     ]
    },
    {
     "name": "stdout",
     "output_type": "stream",
     "text": [
      "F1_score = 0.22905027932960897\n"
     ]
    }
   ],
   "source": [
    "get_result_few_shot(train,dev,50,0.1,'{\"placeholder\":\"text_a\"}. The most likely context for the above conversation to occur is between {\"mask\"}.',[\"enemies\", \"rivals\"],[\"friends\", \"lovers\"])\n"
   ]
  },
  {
   "cell_type": "code",
   "execution_count": 199,
   "id": "8bf6fe25",
   "metadata": {},
   "outputs": [
    {
     "name": "stderr",
     "output_type": "stream",
     "text": [
      "Some weights of BertForMaskedLM were not initialized from the model checkpoint at microsoft/MiniLM-L12-H384-uncased and are newly initialized: ['cls.predictions.transform.dense.bias', 'cls.predictions.transform.LayerNorm.weight', 'cls.predictions.transform.dense.weight', 'cls.predictions.transform.LayerNorm.bias', 'cls.predictions.bias']\n",
      "You should probably TRAIN this model on a down-stream task to be able to use it for predictions and inference.\n",
      "tokenizing: 102it [00:00, 512.48it/s]\n"
     ]
    },
    {
     "name": "stdout",
     "output_type": "stream",
     "text": [
      "Epoch 1, average loss: 0.9539127349853516\n",
      "Epoch 2, average loss: 0.09713759273290634\n",
      "Epoch 3, average loss: 0.010436358861625195\n",
      "Epoch 4, average loss: 0.01777103915810585\n",
      "Epoch 5, average loss: 0.055023666471242905\n"
     ]
    },
    {
     "name": "stderr",
     "output_type": "stream",
     "text": [
      "tokenizing: 3198it [00:06, 525.32it/s]\n",
      "800it [01:27,  9.13it/s]\n"
     ]
    },
    {
     "name": "stdout",
     "output_type": "stream",
     "text": [
      "F1_score = 0.47265625000000006\n"
     ]
    }
   ],
   "source": [
    "get_result_few_shot(train,dev,100,0.1,'{\"placeholder\":\"text_a\"}. The most likely context for the above conversation to occur is between {\"mask\"}.',[\"enemies\", \"rivals\"],[\"friends\", \"lovers\"])\n"
   ]
  },
  {
   "cell_type": "code",
   "execution_count": 144,
   "id": "b06f6f7f",
   "metadata": {},
   "outputs": [
    {
     "name": "stderr",
     "output_type": "stream",
     "text": [
      "Some weights of BertForMaskedLM were not initialized from the model checkpoint at microsoft/MiniLM-L12-H384-uncased and are newly initialized: ['cls.predictions.transform.dense.bias', 'cls.predictions.transform.LayerNorm.weight', 'cls.predictions.transform.dense.weight', 'cls.predictions.transform.LayerNorm.bias', 'cls.predictions.bias']\n",
      "You should probably TRAIN this model on a down-stream task to be able to use it for predictions and inference.\n",
      "tokenizing: 502it [00:00, 535.95it/s]\n"
     ]
    },
    {
     "name": "stdout",
     "output_type": "stream",
     "text": [
      "Epoch 1, average loss: 0.8201795816421509\n",
      "Epoch 2, average loss: 0.09026548266410828\n",
      "Epoch 3, average loss: 0.016530165448784828\n",
      "Epoch 4, average loss: 0.029234305024147034\n"
     ]
    },
    {
     "name": "stderr",
     "output_type": "stream",
     "text": [
      "tokenizing: 3198it [00:06, 498.27it/s]\n",
      "800it [01:32,  8.65it/s]\n"
     ]
    },
    {
     "name": "stdout",
     "output_type": "stream",
     "text": [
      "F1_score = 0.565410199556541\n"
     ]
    }
   ],
   "source": [
    "get_result_few_shot(train,dev,500,0.1,'{\"placeholder\":\"text_a\"}. The most likely context for the above conversation to occur is between {\"mask\"}.',[\"enemies\", \"rivals\"],[\"friends\", \"lovers\"])\n"
   ]
  },
  {
   "cell_type": "code",
   "execution_count": null,
   "id": "c0dd0cfe",
   "metadata": {},
   "outputs": [],
   "source": []
  },
  {
   "cell_type": "markdown",
   "id": "81427b87",
   "metadata": {},
   "source": [
    "#### prompt 7"
   ]
  },
  {
   "cell_type": "code",
   "execution_count": 133,
   "id": "3330d064",
   "metadata": {},
   "outputs": [
    {
     "data": {
      "text/plain": [
       "['crime']"
      ]
     },
     "execution_count": 133,
     "metadata": {},
     "output_type": "execute_result"
    }
   ],
   "source": [
    "test_tokenize(\"crime\")"
   ]
  },
  {
   "cell_type": "code",
   "execution_count": 135,
   "id": "b79051dd",
   "metadata": {},
   "outputs": [
    {
     "data": {
      "text/plain": [
       "['documentary']"
      ]
     },
     "execution_count": 135,
     "metadata": {},
     "output_type": "execute_result"
    }
   ],
   "source": [
    "test_tokenize(\"documentary\")"
   ]
  },
  {
   "cell_type": "code",
   "execution_count": 134,
   "id": "6ceb271a",
   "metadata": {},
   "outputs": [
    {
     "data": {
      "text/plain": [
       "['war']"
      ]
     },
     "execution_count": 134,
     "metadata": {},
     "output_type": "execute_result"
    }
   ],
   "source": [
    "test_tokenize(\"war\")"
   ]
  },
  {
   "cell_type": "code",
   "execution_count": 136,
   "id": "f0c6f3ff",
   "metadata": {},
   "outputs": [
    {
     "data": {
      "text/plain": [
       "['children']"
      ]
     },
     "execution_count": 136,
     "metadata": {},
     "output_type": "execute_result"
    }
   ],
   "source": [
    "test_tokenize(\"children\")"
   ]
  },
  {
   "cell_type": "code",
   "execution_count": 140,
   "id": "dc7e4427",
   "metadata": {},
   "outputs": [
    {
     "name": "stderr",
     "output_type": "stream",
     "text": [
      "Some weights of BertForMaskedLM were not initialized from the model checkpoint at microsoft/MiniLM-L12-H384-uncased and are newly initialized: ['cls.predictions.transform.dense.bias', 'cls.predictions.transform.LayerNorm.weight', 'cls.predictions.transform.dense.weight', 'cls.predictions.transform.LayerNorm.bias', 'cls.predictions.bias']\n",
      "You should probably TRAIN this model on a down-stream task to be able to use it for predictions and inference.\n",
      "tokenizing: 12it [00:00, 540.09it/s]\n"
     ]
    },
    {
     "name": "stdout",
     "output_type": "stream",
     "text": [
      "Epoch 1, average loss: 0.5498024225234985\n",
      "Epoch 2, average loss: 0.9563628435134888\n",
      "Epoch 3, average loss: 0.6177759766578674\n",
      "Epoch 4, average loss: 0.42028263211250305\n",
      "Epoch 5, average loss: 0.3444255590438843\n"
     ]
    },
    {
     "name": "stderr",
     "output_type": "stream",
     "text": [
      "tokenizing: 3198it [00:06, 509.98it/s]\n",
      "800it [01:46,  7.52it/s]"
     ]
    },
    {
     "name": "stdout",
     "output_type": "stream",
     "text": [
      "F1_score = 0.22182468694096602\n"
     ]
    },
    {
     "name": "stderr",
     "output_type": "stream",
     "text": [
      "\n"
     ]
    }
   ],
   "source": [
    "get_result_few_shot(train,dev,10,0.1,'{\"placeholder\":\"text_a\"}. The above statement is most likely to occur in a movie belonging to the {\"mask\"} genre.',[\"crime\", \"war\"],[\"documentary\", \"children\"])\n"
   ]
  },
  {
   "cell_type": "code",
   "execution_count": 137,
   "id": "1b357f18",
   "metadata": {},
   "outputs": [
    {
     "name": "stderr",
     "output_type": "stream",
     "text": [
      "Some weights of BertForMaskedLM were not initialized from the model checkpoint at microsoft/MiniLM-L12-H384-uncased and are newly initialized: ['cls.predictions.transform.dense.bias', 'cls.predictions.transform.LayerNorm.weight', 'cls.predictions.transform.dense.weight', 'cls.predictions.transform.LayerNorm.bias', 'cls.predictions.bias']\n",
      "You should probably TRAIN this model on a down-stream task to be able to use it for predictions and inference.\n",
      "tokenizing: 52it [00:00, 475.83it/s]\n"
     ]
    },
    {
     "name": "stdout",
     "output_type": "stream",
     "text": [
      "Epoch 1, average loss: 2.644014835357666\n",
      "Epoch 2, average loss: 0.01988140121102333\n",
      "Epoch 3, average loss: 0.12491446733474731\n",
      "Epoch 4, average loss: 0.055638253688812256\n",
      "Epoch 5, average loss: 0.6645469069480896\n"
     ]
    },
    {
     "name": "stderr",
     "output_type": "stream",
     "text": [
      "tokenizing: 3198it [00:06, 483.59it/s]\n",
      "800it [01:34,  8.46it/s]"
     ]
    },
    {
     "name": "stdout",
     "output_type": "stream",
     "text": [
      "F1_score = 0.36853448275862066\n"
     ]
    },
    {
     "name": "stderr",
     "output_type": "stream",
     "text": [
      "\n"
     ]
    }
   ],
   "source": [
    "get_result_few_shot(train,dev,50,0.1,'{\"placeholder\":\"text_a\"}. The above statement is most likely to occur in a movie belonging to the {\"mask\"} genre.',[\"crime\", \"war\"],[\"documentary\", \"children\"])\n"
   ]
  },
  {
   "cell_type": "code",
   "execution_count": 138,
   "id": "ace6d952",
   "metadata": {},
   "outputs": [
    {
     "name": "stderr",
     "output_type": "stream",
     "text": [
      "Some weights of BertForMaskedLM were not initialized from the model checkpoint at microsoft/MiniLM-L12-H384-uncased and are newly initialized: ['cls.predictions.transform.dense.bias', 'cls.predictions.transform.LayerNorm.weight', 'cls.predictions.transform.dense.weight', 'cls.predictions.transform.LayerNorm.bias', 'cls.predictions.bias']\n",
      "You should probably TRAIN this model on a down-stream task to be able to use it for predictions and inference.\n",
      "tokenizing: 102it [00:00, 427.85it/s]\n"
     ]
    },
    {
     "name": "stdout",
     "output_type": "stream",
     "text": [
      "Epoch 1, average loss: 0.669137716293335\n",
      "Epoch 2, average loss: 0.28149276971817017\n",
      "Epoch 3, average loss: 0.01632738672196865\n",
      "Epoch 4, average loss: 0.004149508196860552\n",
      "Epoch 5, average loss: 0.0015196979511529207\n"
     ]
    },
    {
     "name": "stderr",
     "output_type": "stream",
     "text": [
      "tokenizing: 3198it [00:06, 498.30it/s]\n",
      "800it [01:29,  8.95it/s]\n"
     ]
    },
    {
     "name": "stdout",
     "output_type": "stream",
     "text": [
      "F1_score = 0.5047318611987383\n"
     ]
    }
   ],
   "source": [
    "get_result_few_shot(train,dev,100,0.1,'{\"placeholder\":\"text_a\"}. The above statement is most likely to occur in a movie belonging to the {\"mask\"} genre.',[\"crime\", \"war\"],[\"documentary\", \"children\"])\n"
   ]
  },
  {
   "cell_type": "code",
   "execution_count": 139,
   "id": "0c973ab3",
   "metadata": {},
   "outputs": [
    {
     "name": "stderr",
     "output_type": "stream",
     "text": [
      "Some weights of BertForMaskedLM were not initialized from the model checkpoint at microsoft/MiniLM-L12-H384-uncased and are newly initialized: ['cls.predictions.transform.dense.bias', 'cls.predictions.transform.LayerNorm.weight', 'cls.predictions.transform.dense.weight', 'cls.predictions.transform.LayerNorm.bias', 'cls.predictions.bias']\n",
      "You should probably TRAIN this model on a down-stream task to be able to use it for predictions and inference.\n",
      "tokenizing: 502it [00:00, 527.48it/s]\n"
     ]
    },
    {
     "name": "stdout",
     "output_type": "stream",
     "text": [
      "Epoch 1, average loss: 0.6665509343147278\n",
      "Epoch 2, average loss: 0.1740700751543045\n",
      "Epoch 3, average loss: 0.531547486782074\n",
      "Epoch 4, average loss: 0.6191444993019104\n",
      "Epoch 5, average loss: 0.03877025842666626\n"
     ]
    },
    {
     "name": "stderr",
     "output_type": "stream",
     "text": [
      "tokenizing: 3198it [00:06, 498.91it/s]\n",
      "800it [01:43,  7.73it/s]"
     ]
    },
    {
     "name": "stdout",
     "output_type": "stream",
     "text": [
      "F1_score = 0.4891774891774892\n"
     ]
    },
    {
     "name": "stderr",
     "output_type": "stream",
     "text": [
      "\n"
     ]
    }
   ],
   "source": [
    "get_result_few_shot(train,dev,500,0.1,'{\"placeholder\":\"text_a\"}. The above statement is most likely to occur in a movie belonging to the {\"mask\"} genre.',[\"crime\", \"war\"],[\"documentary\", \"children\"])\n"
   ]
  },
  {
   "cell_type": "code",
   "execution_count": null,
   "id": "25331e89",
   "metadata": {},
   "outputs": [],
   "source": []
  },
  {
   "cell_type": "markdown",
   "id": "9c45b29a",
   "metadata": {},
   "source": [
    "#### prompt 8"
   ]
  },
  {
   "cell_type": "code",
   "execution_count": 148,
   "id": "5ba15294",
   "metadata": {},
   "outputs": [
    {
     "data": {
      "text/plain": [
       "['yes']"
      ]
     },
     "execution_count": 148,
     "metadata": {},
     "output_type": "execute_result"
    }
   ],
   "source": [
    "test_tokenize(\"yes\")"
   ]
  },
  {
   "cell_type": "code",
   "execution_count": 147,
   "id": "e24e9dff",
   "metadata": {},
   "outputs": [
    {
     "data": {
      "text/plain": [
       "['no']"
      ]
     },
     "execution_count": 147,
     "metadata": {},
     "output_type": "execute_result"
    }
   ],
   "source": [
    "test_tokenize(\"no\")"
   ]
  },
  {
   "cell_type": "code",
   "execution_count": 146,
   "id": "885bc6e8",
   "metadata": {},
   "outputs": [
    {
     "data": {
      "text/plain": [
       "['absolutely']"
      ]
     },
     "execution_count": 146,
     "metadata": {},
     "output_type": "execute_result"
    }
   ],
   "source": [
    "test_tokenize(\"absolutely\")"
   ]
  },
  {
   "cell_type": "code",
   "execution_count": 145,
   "id": "1eb1be20",
   "metadata": {},
   "outputs": [
    {
     "data": {
      "text/plain": [
       "['unlikely']"
      ]
     },
     "execution_count": 145,
     "metadata": {},
     "output_type": "execute_result"
    }
   ],
   "source": [
    "test_tokenize(\"unlikely\")"
   ]
  },
  {
   "cell_type": "code",
   "execution_count": 150,
   "id": "d87c0220",
   "metadata": {},
   "outputs": [
    {
     "name": "stderr",
     "output_type": "stream",
     "text": [
      "Some weights of BertForMaskedLM were not initialized from the model checkpoint at microsoft/MiniLM-L12-H384-uncased and are newly initialized: ['cls.predictions.transform.dense.bias', 'cls.predictions.transform.LayerNorm.weight', 'cls.predictions.transform.dense.weight', 'cls.predictions.transform.LayerNorm.bias', 'cls.predictions.bias']\n",
      "You should probably TRAIN this model on a down-stream task to be able to use it for predictions and inference.\n",
      "tokenizing: 12it [00:00, 722.69it/s]\n"
     ]
    },
    {
     "name": "stdout",
     "output_type": "stream",
     "text": [
      "Epoch 1, average loss: 0.9162700772285461\n",
      "Epoch 2, average loss: 0.6909216642379761\n",
      "Epoch 3, average loss: 0.2883400321006775\n",
      "Epoch 4, average loss: 0.6308941841125488\n",
      "Epoch 5, average loss: 0.14249205589294434\n"
     ]
    },
    {
     "name": "stderr",
     "output_type": "stream",
     "text": [
      "tokenizing: 3198it [00:06, 510.35it/s]\n",
      "800it [01:34,  8.49it/s]"
     ]
    },
    {
     "name": "stdout",
     "output_type": "stream",
     "text": [
      "F1_score = 0.11389521640091116\n"
     ]
    },
    {
     "name": "stderr",
     "output_type": "stream",
     "text": [
      "\n"
     ]
    }
   ],
   "source": [
    "get_result_few_shot(train,dev,10,0.1,'{\"placeholder\":\"text_a\"}. Do you think a gentle and easygoing person would say the above statement? Answer: {\"mask\"}.',[\"no\", \"unlikely\"],[\"yes\", \"absolutely\"])\n"
   ]
  },
  {
   "cell_type": "code",
   "execution_count": 151,
   "id": "d7ddec14",
   "metadata": {},
   "outputs": [
    {
     "name": "stderr",
     "output_type": "stream",
     "text": [
      "Some weights of BertForMaskedLM were not initialized from the model checkpoint at microsoft/MiniLM-L12-H384-uncased and are newly initialized: ['cls.predictions.transform.dense.bias', 'cls.predictions.transform.LayerNorm.weight', 'cls.predictions.transform.dense.weight', 'cls.predictions.transform.LayerNorm.bias', 'cls.predictions.bias']\n",
      "You should probably TRAIN this model on a down-stream task to be able to use it for predictions and inference.\n",
      "tokenizing: 52it [00:00, 413.43it/s]\n"
     ]
    },
    {
     "name": "stdout",
     "output_type": "stream",
     "text": [
      "Epoch 1, average loss: 0.5275701284408569\n",
      "Epoch 2, average loss: 0.867324709892273\n",
      "Epoch 3, average loss: 1.5586776733398438\n",
      "Epoch 4, average loss: 0.08562132716178894\n",
      "Epoch 5, average loss: 0.11206943541765213\n"
     ]
    },
    {
     "name": "stderr",
     "output_type": "stream",
     "text": [
      "tokenizing: 3198it [00:06, 501.96it/s]\n",
      "800it [01:39,  8.08it/s]\n"
     ]
    },
    {
     "name": "stdout",
     "output_type": "stream",
     "text": [
      "F1_score = 0.16400911161731208\n"
     ]
    }
   ],
   "source": [
    "get_result_few_shot(train,dev,50,0.1,'{\"placeholder\":\"text_a\"}. Do you think a gentle and easygoing person would say the above statement? Answer: {\"mask\"}.',[\"no\", \"unlikely\"],[\"yes\", \"absolutely\"])\n"
   ]
  },
  {
   "cell_type": "code",
   "execution_count": 152,
   "id": "62cf29a6",
   "metadata": {},
   "outputs": [
    {
     "name": "stderr",
     "output_type": "stream",
     "text": [
      "Some weights of BertForMaskedLM were not initialized from the model checkpoint at microsoft/MiniLM-L12-H384-uncased and are newly initialized: ['cls.predictions.transform.dense.bias', 'cls.predictions.transform.LayerNorm.weight', 'cls.predictions.transform.dense.weight', 'cls.predictions.transform.LayerNorm.bias', 'cls.predictions.bias']\n",
      "You should probably TRAIN this model on a down-stream task to be able to use it for predictions and inference.\n",
      "tokenizing: 102it [00:00, 440.84it/s]\n"
     ]
    },
    {
     "name": "stdout",
     "output_type": "stream",
     "text": [
      "Epoch 1, average loss: 0.6388476490974426\n",
      "Epoch 2, average loss: 0.05183045566082001\n",
      "Epoch 3, average loss: 0.15265856683254242\n",
      "Epoch 4, average loss: 0.09920595586299896\n",
      "Epoch 5, average loss: 0.0007755099795758724\n"
     ]
    },
    {
     "name": "stderr",
     "output_type": "stream",
     "text": [
      "tokenizing: 3198it [00:06, 487.76it/s]\n",
      "800it [01:32,  8.70it/s]"
     ]
    },
    {
     "name": "stdout",
     "output_type": "stream",
     "text": [
      "F1_score = 0.555746140651801\n"
     ]
    },
    {
     "name": "stderr",
     "output_type": "stream",
     "text": [
      "\n"
     ]
    }
   ],
   "source": [
    "get_result_few_shot(train,dev,100,0.1,'{\"placeholder\":\"text_a\"}. Do you think a gentle and easygoing person would say the above statement? Answer: {\"mask\"}.',[\"no\", \"unlikely\"],[\"yes\", \"absolutely\"])\n"
   ]
  },
  {
   "cell_type": "code",
   "execution_count": 153,
   "id": "eb28396b",
   "metadata": {},
   "outputs": [
    {
     "name": "stderr",
     "output_type": "stream",
     "text": [
      "Some weights of BertForMaskedLM were not initialized from the model checkpoint at microsoft/MiniLM-L12-H384-uncased and are newly initialized: ['cls.predictions.transform.dense.bias', 'cls.predictions.transform.LayerNorm.weight', 'cls.predictions.transform.dense.weight', 'cls.predictions.transform.LayerNorm.bias', 'cls.predictions.bias']\n",
      "You should probably TRAIN this model on a down-stream task to be able to use it for predictions and inference.\n",
      "tokenizing: 502it [00:00, 505.68it/s]\n"
     ]
    },
    {
     "name": "stdout",
     "output_type": "stream",
     "text": [
      "Epoch 1, average loss: 1.0261898040771484\n",
      "Epoch 2, average loss: 0.2037329226732254\n",
      "Epoch 3, average loss: 0.046645134687423706\n",
      "Epoch 4, average loss: 0.042868345975875854\n",
      "Epoch 5, average loss: 0.23403549194335938\n"
     ]
    },
    {
     "name": "stderr",
     "output_type": "stream",
     "text": [
      "tokenizing: 3198it [00:06, 498.27it/s]\n",
      "800it [01:43,  7.73it/s]\n"
     ]
    },
    {
     "name": "stdout",
     "output_type": "stream",
     "text": [
      "F1_score = 0.48484848484848486\n"
     ]
    }
   ],
   "source": [
    "get_result_few_shot(train,dev,500,0.1,'{\"placeholder\":\"text_a\"}. Do you think a gentle and easygoing person would say the above statement? Answer: {\"mask\"}.',[\"no\", \"unlikely\"],[\"yes\", \"absolutely\"])\n"
   ]
  },
  {
   "cell_type": "code",
   "execution_count": null,
   "id": "5e61ee9c",
   "metadata": {},
   "outputs": [],
   "source": []
  },
  {
   "cell_type": "markdown",
   "id": "15944bc4",
   "metadata": {},
   "source": [
    "#### prompt 9"
   ]
  },
  {
   "cell_type": "code",
   "execution_count": 171,
   "id": "3779ed34",
   "metadata": {},
   "outputs": [
    {
     "name": "stderr",
     "output_type": "stream",
     "text": [
      "Some weights of BertForMaskedLM were not initialized from the model checkpoint at microsoft/MiniLM-L12-H384-uncased and are newly initialized: ['cls.predictions.transform.dense.bias', 'cls.predictions.transform.LayerNorm.weight', 'cls.predictions.transform.dense.weight', 'cls.predictions.transform.LayerNorm.bias', 'cls.predictions.bias']\n",
      "You should probably TRAIN this model on a down-stream task to be able to use it for predictions and inference.\n",
      "tokenizing: 12it [00:00, 586.71it/s]\n"
     ]
    },
    {
     "name": "stdout",
     "output_type": "stream",
     "text": [
      "Epoch 1, average loss: 1.3347258567810059\n",
      "Epoch 2, average loss: 1.0625371932983398\n",
      "Epoch 3, average loss: 0.6823068261146545\n",
      "Epoch 4, average loss: 0.41421106457710266\n",
      "Epoch 5, average loss: 0.21459876000881195\n"
     ]
    },
    {
     "name": "stderr",
     "output_type": "stream",
     "text": [
      "tokenizing: 3198it [00:06, 523.23it/s]\n",
      "800it [01:17, 10.30it/s]"
     ]
    },
    {
     "name": "stdout",
     "output_type": "stream",
     "text": [
      "F1_score = 0.21558872305140964\n"
     ]
    },
    {
     "name": "stderr",
     "output_type": "stream",
     "text": [
      "\n"
     ]
    }
   ],
   "source": [
    "get_result_few_shot(train,dev,10,0.1,'{\"placeholder\":\"text_a\"}. Do you think a angry and offensive person would say the above statement? Answer: {\"mask\"}.',[\"yes\", \"absolutely\"], [\"no\", \"unlikely\"])\n"
   ]
  },
  {
   "cell_type": "code",
   "execution_count": 206,
   "id": "dc76f564",
   "metadata": {},
   "outputs": [
    {
     "name": "stderr",
     "output_type": "stream",
     "text": [
      "Some weights of BertForMaskedLM were not initialized from the model checkpoint at microsoft/MiniLM-L12-H384-uncased and are newly initialized: ['cls.predictions.transform.dense.bias', 'cls.predictions.transform.LayerNorm.weight', 'cls.predictions.transform.dense.weight', 'cls.predictions.transform.LayerNorm.bias', 'cls.predictions.bias']\n",
      "You should probably TRAIN this model on a down-stream task to be able to use it for predictions and inference.\n",
      "tokenizing: 52it [00:00, 514.77it/s]\n"
     ]
    },
    {
     "name": "stdout",
     "output_type": "stream",
     "text": [
      "Epoch 1, average loss: 0.641349732875824\n",
      "Epoch 2, average loss: 0.5798465013504028\n",
      "Epoch 3, average loss: 0.34467339515686035\n",
      "Epoch 4, average loss: 0.898923933506012\n",
      "Epoch 5, average loss: 0.3761307895183563\n"
     ]
    },
    {
     "name": "stderr",
     "output_type": "stream",
     "text": [
      "tokenizing: 3198it [00:06, 481.17it/s]\n",
      "800it [01:29,  8.94it/s]\n"
     ]
    },
    {
     "name": "stdout",
     "output_type": "stream",
     "text": [
      "F1_score = 0.1388888888888889\n"
     ]
    }
   ],
   "source": [
    "get_result_few_shot(train,dev,50,0.1,'{\"placeholder\":\"text_a\"}. Do you think a angry and offensive person would say the above statement? Answer: {\"mask\"}.',[\"yes\", \"absolutely\"], [\"no\", \"unlikely\"])\n"
   ]
  },
  {
   "cell_type": "code",
   "execution_count": 161,
   "id": "9944246a",
   "metadata": {},
   "outputs": [
    {
     "name": "stderr",
     "output_type": "stream",
     "text": [
      "Some weights of BertForMaskedLM were not initialized from the model checkpoint at microsoft/MiniLM-L12-H384-uncased and are newly initialized: ['cls.predictions.transform.dense.bias', 'cls.predictions.transform.LayerNorm.weight', 'cls.predictions.transform.dense.weight', 'cls.predictions.transform.LayerNorm.bias', 'cls.predictions.bias']\n",
      "You should probably TRAIN this model on a down-stream task to be able to use it for predictions and inference.\n",
      "tokenizing: 102it [00:00, 464.14it/s]\n"
     ]
    },
    {
     "name": "stdout",
     "output_type": "stream",
     "text": [
      "Epoch 1, average loss: 0.91446852684021\n",
      "Epoch 2, average loss: 0.009039508178830147\n",
      "Epoch 3, average loss: 0.021195389330387115\n",
      "Epoch 4, average loss: 0.14902044832706451\n",
      "Epoch 5, average loss: 0.002520659239962697\n"
     ]
    },
    {
     "name": "stderr",
     "output_type": "stream",
     "text": [
      "tokenizing: 3198it [00:06, 495.86it/s]\n",
      "800it [01:16, 10.41it/s]"
     ]
    },
    {
     "name": "stdout",
     "output_type": "stream",
     "text": [
      "F1_score = 0.4505747126436782\n"
     ]
    },
    {
     "name": "stderr",
     "output_type": "stream",
     "text": [
      "\n"
     ]
    }
   ],
   "source": [
    "get_result_few_shot(train,dev,100,0.1,'{\"placeholder\":\"text_a\"}. Do you think a angry and offensive person would say the above statement? Answer: {\"mask\"}.',[\"yes\", \"absolutely\"], [\"no\", \"unlikely\"])\n"
   ]
  },
  {
   "cell_type": "code",
   "execution_count": 162,
   "id": "a6a584ac",
   "metadata": {},
   "outputs": [
    {
     "name": "stderr",
     "output_type": "stream",
     "text": [
      "Some weights of BertForMaskedLM were not initialized from the model checkpoint at microsoft/MiniLM-L12-H384-uncased and are newly initialized: ['cls.predictions.transform.dense.bias', 'cls.predictions.transform.LayerNorm.weight', 'cls.predictions.transform.dense.weight', 'cls.predictions.transform.LayerNorm.bias', 'cls.predictions.bias']\n",
      "You should probably TRAIN this model on a down-stream task to be able to use it for predictions and inference.\n",
      "tokenizing: 502it [00:00, 518.77it/s]\n"
     ]
    },
    {
     "name": "stdout",
     "output_type": "stream",
     "text": [
      "Epoch 1, average loss: 0.5005200505256653\n",
      "Epoch 2, average loss: 0.03772956132888794\n",
      "Epoch 3, average loss: 0.0039591193199157715\n",
      "Epoch 4, average loss: 0.0034470194950699806\n",
      "Epoch 5, average loss: 0.0002812637249007821\n"
     ]
    },
    {
     "name": "stderr",
     "output_type": "stream",
     "text": [
      "tokenizing: 3198it [00:06, 473.03it/s]\n",
      "800it [01:19, 10.03it/s]\n"
     ]
    },
    {
     "name": "stdout",
     "output_type": "stream",
     "text": [
      "F1_score = 0.5612788632326821\n"
     ]
    }
   ],
   "source": [
    "get_result_few_shot(train,dev,500,0.1,'{\"placeholder\":\"text_a\"}. Do you think a angry and offensive person would say the above statement? Answer: {\"mask\"}.',[\"yes\", \"absolutely\"], [\"no\", \"unlikely\"])\n"
   ]
  },
  {
   "cell_type": "code",
   "execution_count": null,
   "id": "24e2ab4a",
   "metadata": {},
   "outputs": [],
   "source": []
  },
  {
   "cell_type": "markdown",
   "id": "5b1d7c9a",
   "metadata": {},
   "source": [
    "#### prompt 10"
   ]
  },
  {
   "cell_type": "code",
   "execution_count": 164,
   "id": "11e53a01",
   "metadata": {},
   "outputs": [
    {
     "name": "stderr",
     "output_type": "stream",
     "text": [
      "Some weights of BertForMaskedLM were not initialized from the model checkpoint at microsoft/MiniLM-L12-H384-uncased and are newly initialized: ['cls.predictions.transform.dense.bias', 'cls.predictions.transform.LayerNorm.weight', 'cls.predictions.transform.dense.weight', 'cls.predictions.transform.LayerNorm.bias', 'cls.predictions.bias']\n",
      "You should probably TRAIN this model on a down-stream task to be able to use it for predictions and inference.\n",
      "tokenizing: 12it [00:00, 716.93it/s]\n"
     ]
    },
    {
     "name": "stdout",
     "output_type": "stream",
     "text": [
      "Epoch 1, average loss: 0.8131697177886963\n",
      "Epoch 2, average loss: 0.5786397457122803\n",
      "Epoch 3, average loss: 0.2135779857635498\n",
      "Epoch 4, average loss: 0.18650028109550476\n",
      "Epoch 5, average loss: 0.11052042245864868\n"
     ]
    },
    {
     "name": "stderr",
     "output_type": "stream",
     "text": [
      "tokenizing: 3198it [00:06, 523.31it/s]\n",
      "800it [01:14, 10.70it/s]\n"
     ]
    },
    {
     "name": "stdout",
     "output_type": "stream",
     "text": [
      "F1_score = 0.19815668202764977\n"
     ]
    }
   ],
   "source": [
    "get_result_few_shot(train,dev,10,0.1,'{\"placeholder\":\"text_a\"}. Do you think the sentence above is a toxic sentence? Answer: {\"mask\"}.',[\"yes\", \"absolutely\"], [\"no\", \"unlikely\"])\n"
   ]
  },
  {
   "cell_type": "code",
   "execution_count": 204,
   "id": "6d3da640",
   "metadata": {},
   "outputs": [
    {
     "name": "stderr",
     "output_type": "stream",
     "text": [
      "Some weights of BertForMaskedLM were not initialized from the model checkpoint at microsoft/MiniLM-L12-H384-uncased and are newly initialized: ['cls.predictions.transform.dense.bias', 'cls.predictions.transform.LayerNorm.weight', 'cls.predictions.transform.dense.weight', 'cls.predictions.transform.LayerNorm.bias', 'cls.predictions.bias']\n",
      "You should probably TRAIN this model on a down-stream task to be able to use it for predictions and inference.\n",
      "tokenizing: 52it [00:00, 463.19it/s]\n"
     ]
    },
    {
     "name": "stdout",
     "output_type": "stream",
     "text": [
      "Epoch 1, average loss: 0.7112749218940735\n",
      "Epoch 2, average loss: 0.16376329958438873\n",
      "Epoch 3, average loss: 0.008568543940782547\n",
      "Epoch 4, average loss: 0.013852277770638466\n",
      "Epoch 5, average loss: 0.6061021685600281\n"
     ]
    },
    {
     "name": "stderr",
     "output_type": "stream",
     "text": [
      "tokenizing: 3198it [00:06, 526.43it/s]\n",
      "800it [01:27,  9.15it/s]"
     ]
    },
    {
     "name": "stdout",
     "output_type": "stream",
     "text": [
      "F1_score = 0.2280701754385965\n"
     ]
    },
    {
     "name": "stderr",
     "output_type": "stream",
     "text": [
      "\n"
     ]
    }
   ],
   "source": [
    "get_result_few_shot(train,dev,50,0.1,'{\"placeholder\":\"text_a\"}. Do you think the sentence above is a toxic sentence? Answer: {\"mask\"}.',[\"yes\", \"absolutely\"], [\"no\", \"unlikely\"])\n"
   ]
  },
  {
   "cell_type": "code",
   "execution_count": 201,
   "id": "b5f23b5c",
   "metadata": {},
   "outputs": [
    {
     "name": "stderr",
     "output_type": "stream",
     "text": [
      "Some weights of BertForMaskedLM were not initialized from the model checkpoint at microsoft/MiniLM-L12-H384-uncased and are newly initialized: ['cls.predictions.transform.dense.bias', 'cls.predictions.transform.LayerNorm.weight', 'cls.predictions.transform.dense.weight', 'cls.predictions.transform.LayerNorm.bias', 'cls.predictions.bias']\n",
      "You should probably TRAIN this model on a down-stream task to be able to use it for predictions and inference.\n",
      "tokenizing: 102it [00:00, 563.54it/s]\n"
     ]
    },
    {
     "name": "stdout",
     "output_type": "stream",
     "text": [
      "Epoch 1, average loss: 1.0562331676483154\n",
      "Epoch 2, average loss: 0.5127506256103516\n",
      "Epoch 3, average loss: 0.6376174092292786\n",
      "Epoch 4, average loss: 0.21327121555805206\n",
      "Epoch 5, average loss: 0.8810306787490845\n"
     ]
    },
    {
     "name": "stderr",
     "output_type": "stream",
     "text": [
      "tokenizing: 3198it [00:05, 544.15it/s]\n",
      "800it [01:29,  8.94it/s]"
     ]
    },
    {
     "name": "stdout",
     "output_type": "stream",
     "text": [
      "F1_score = 0.5799701046337817\n"
     ]
    },
    {
     "name": "stderr",
     "output_type": "stream",
     "text": [
      "\n"
     ]
    }
   ],
   "source": [
    "get_result_few_shot(train,dev,100,0.1,'{\"placeholder\":\"text_a\"}. Do you think the sentence above is a toxic sentence? Answer: {\"mask\"}.',[\"yes\", \"absolutely\"], [\"no\", \"unlikely\"])\n"
   ]
  },
  {
   "cell_type": "code",
   "execution_count": 202,
   "id": "56f5ea31",
   "metadata": {},
   "outputs": [
    {
     "name": "stderr",
     "output_type": "stream",
     "text": [
      "Some weights of BertForMaskedLM were not initialized from the model checkpoint at microsoft/MiniLM-L12-H384-uncased and are newly initialized: ['cls.predictions.transform.dense.bias', 'cls.predictions.transform.LayerNorm.weight', 'cls.predictions.transform.dense.weight', 'cls.predictions.transform.LayerNorm.bias', 'cls.predictions.bias']\n",
      "You should probably TRAIN this model on a down-stream task to be able to use it for predictions and inference.\n",
      "tokenizing: 502it [00:01, 473.99it/s]\n"
     ]
    },
    {
     "name": "stdout",
     "output_type": "stream",
     "text": [
      "Epoch 1, average loss: 1.9974207878112793\n",
      "Epoch 2, average loss: 0.7317872643470764\n",
      "Epoch 3, average loss: 0.00904694851487875\n",
      "Epoch 4, average loss: 0.01579928770661354\n",
      "Epoch 5, average loss: 0.00499735539779067\n"
     ]
    },
    {
     "name": "stderr",
     "output_type": "stream",
     "text": [
      "tokenizing: 3198it [00:05, 536.30it/s]\n",
      "800it [01:28,  9.09it/s]\n"
     ]
    },
    {
     "name": "stdout",
     "output_type": "stream",
     "text": [
      "F1_score = 0.5293586269196026\n"
     ]
    }
   ],
   "source": [
    "get_result_few_shot(train,dev,500,0.1,'{\"placeholder\":\"text_a\"}. Do you think the sentence above is a toxic sentence? Answer: {\"mask\"}.',[\"yes\", \"absolutely\"], [\"no\", \"unlikely\"])\n"
   ]
  },
  {
   "cell_type": "code",
   "execution_count": null,
   "id": "bec6b6b2",
   "metadata": {},
   "outputs": [],
   "source": []
  },
  {
   "cell_type": "code",
   "execution_count": null,
   "id": "cb7b82ed",
   "metadata": {},
   "outputs": [],
   "source": []
  },
  {
   "cell_type": "code",
   "execution_count": null,
   "id": "2408e37e",
   "metadata": {},
   "outputs": [],
   "source": []
  },
  {
   "cell_type": "markdown",
   "id": "009a8250",
   "metadata": {},
   "source": [
    "### Problem 3 Zero-shot Learning with small model for dev dataset"
   ]
  },
  {
   "cell_type": "code",
   "execution_count": 33,
   "id": "39731a3f",
   "metadata": {},
   "outputs": [],
   "source": [
    "from transformers import T5Tokenizer, T5ForConditionalGeneration\n",
    "\n",
    "tokenizer = T5Tokenizer.from_pretrained(\"google/flan-t5-small\")\n",
    "model = T5ForConditionalGeneration.from_pretrained(\"google/flan-t5-small\")"
   ]
  },
  {
   "cell_type": "code",
   "execution_count": 34,
   "id": "fa8cdca3",
   "metadata": {},
   "outputs": [],
   "source": [
    "def inference(input_text):\n",
    "    input_ids = tokenizer(input_text, return_tensors=\"pt\").input_ids\n",
    "    outputs = model.generate(input_ids, max_length=200, bos_token_id=0)\n",
    "    result = tokenizer.decode(outputs[0], skip_special_tokens=True)\n",
    "    return result"
   ]
  },
  {
   "cell_type": "code",
   "execution_count": 35,
   "id": "890949c4",
   "metadata": {},
   "outputs": [
    {
     "data": {
      "text/html": [
       "<div>\n",
       "<style scoped>\n",
       "    .dataframe tbody tr th:only-of-type {\n",
       "        vertical-align: middle;\n",
       "    }\n",
       "\n",
       "    .dataframe tbody tr th {\n",
       "        vertical-align: top;\n",
       "    }\n",
       "\n",
       "    .dataframe thead th {\n",
       "        text-align: right;\n",
       "    }\n",
       "</style>\n",
       "<table border=\"1\" class=\"dataframe\">\n",
       "  <thead>\n",
       "    <tr style=\"text-align: right;\">\n",
       "      <th></th>\n",
       "      <th>id</th>\n",
       "      <th>comment_text</th>\n",
       "      <th>toxic</th>\n",
       "    </tr>\n",
       "  </thead>\n",
       "  <tbody>\n",
       "    <tr>\n",
       "      <th>0</th>\n",
       "      <td>392f6ca96a17f3ea</td>\n",
       "      <td>Using payscale.com, salaries for veterinarians...</td>\n",
       "      <td>0</td>\n",
       "    </tr>\n",
       "    <tr>\n",
       "      <th>1</th>\n",
       "      <td>514e6388188c8578</td>\n",
       "      <td>\"of the toxins used in zombification? If so, I...</td>\n",
       "      <td>0</td>\n",
       "    </tr>\n",
       "    <tr>\n",
       "      <th>2</th>\n",
       "      <td>ecaf26f6a2e2ad16</td>\n",
       "      <td>:I just did some poking around Open Group's we...</td>\n",
       "      <td>0</td>\n",
       "    </tr>\n",
       "    <tr>\n",
       "      <th>3</th>\n",
       "      <td>b810426156c0d0d3</td>\n",
       "      <td>Barnstorming from Activision is the original r...</td>\n",
       "      <td>0</td>\n",
       "    </tr>\n",
       "    <tr>\n",
       "      <th>4</th>\n",
       "      <td>40d1086bdb2a1b85</td>\n",
       "      <td>|listas= Mommers, Hendrick</td>\n",
       "      <td>0</td>\n",
       "    </tr>\n",
       "  </tbody>\n",
       "</table>\n",
       "</div>"
      ],
      "text/plain": [
       "                 id                                       comment_text  toxic\n",
       "0  392f6ca96a17f3ea  Using payscale.com, salaries for veterinarians...      0\n",
       "1  514e6388188c8578  \"of the toxins used in zombification? If so, I...      0\n",
       "2  ecaf26f6a2e2ad16  :I just did some poking around Open Group's we...      0\n",
       "3  b810426156c0d0d3  Barnstorming from Activision is the original r...      0\n",
       "4  40d1086bdb2a1b85                         |listas= Mommers, Hendrick      0"
      ]
     },
     "execution_count": 35,
     "metadata": {},
     "output_type": "execute_result"
    }
   ],
   "source": [
    "dev.head()"
   ]
  },
  {
   "cell_type": "code",
   "execution_count": 89,
   "id": "e3cbec7b",
   "metadata": {},
   "outputs": [],
   "source": [
    "def get_new(row):\n",
    "    row[\"comment_text\"] = \"<\" + row[\"comment_text\"] + \">\"\n",
    "    return row\n",
    "\n",
    "new_dev = dev.apply(get_new,axis=\"columns\")"
   ]
  },
  {
   "cell_type": "code",
   "execution_count": 91,
   "id": "a7370848",
   "metadata": {},
   "outputs": [],
   "source": [
    "#Using 10% for each training\n",
    "def get_part_new_dev(new_dev,percentage):\n",
    "    label_rows = new_dev.drop_duplicates(subset='toxic')\n",
    "    remaining_rows = new_dev[~new_dev.index.isin(label_rows.index)]\n",
    "    sample_size = int(percentage * len(remaining_rows))\n",
    "    sample_remaining = remaining_rows.sample(n=sample_size)\n",
    "    sample_dev = pd.concat([label_rows, sample_remaining])\n",
    "    \n",
    "    return sample_dev"
   ]
  },
  {
   "cell_type": "code",
   "execution_count": 92,
   "id": "826e3453",
   "metadata": {},
   "outputs": [],
   "source": [
    "def get_test_fscore(ground_true, list_zero):\n",
    "    true_positive = 0\n",
    "    false_positive = 0\n",
    "    false_negative = 0\n",
    "\n",
    "    for i in range(len(list_zero)):\n",
    "\n",
    "        if ground_true[i] == 1 and list_zero[i] == 1:\n",
    "            true_positive = true_positive+1\n",
    "        elif list_zero[i] == 1 and ground_true[i] == 0:\n",
    "            false_positive = false_positive + 1\n",
    "        elif list_zero[i] == 0 and ground_true[i] == 1:\n",
    "            false_negative = false_negative+1\n",
    "    if true_positive+false_positive == 0 or true_positive+false_negative == 0:\n",
    "        return 0\n",
    "    else:\n",
    "        Precision = true_positive/(true_positive+false_positive)\n",
    "        Recall = true_positive/(true_positive+false_negative)\n",
    "        F1_Score = 2 * (Precision * Recall) / (Precision + Recall)\n",
    "        return F1_Score"
   ]
  },
  {
   "cell_type": "code",
   "execution_count": 93,
   "id": "2218e8c6",
   "metadata": {},
   "outputs": [],
   "source": [
    "def get_result_dev(new_dev,prompt):\n",
    "    list_zero = []\n",
    "    new_dev = get_part_new_dev(new_dev,0.1)\n",
    "    new_dev = new_dev.reset_index()\n",
    "    for i in tqdm(range(len(new_dev))):\n",
    "        input_text = new_dev[\"comment_text\"][i] + prompt\n",
    "        result = inference(input_text)\n",
    "        try:\n",
    "            list_zero.append(int(result))\n",
    "        except:\n",
    "            list_zero.append(0)\n",
    "    \n",
    "    ground_true = new_dev[\"toxic\"].tolist()\n",
    "    \n",
    "    f1_score = get_test_fscore(ground_true, list_zero)\n",
    "    \n",
    "    return f1_score"
   ]
  },
  {
   "cell_type": "code",
   "execution_count": 94,
   "id": "717c9286",
   "metadata": {},
   "outputs": [
    {
     "name": "stderr",
     "output_type": "stream",
     "text": [
      "100%|██████████| 3198/3198 [05:07<00:00, 10.41it/s] \n"
     ]
    },
    {
     "data": {
      "text/plain": [
       "0.17845961177207265"
      ]
     },
     "execution_count": 94,
     "metadata": {},
     "output_type": "execute_result"
    }
   ],
   "source": [
    "get_result_dev(new_dev,\"Please determine whether the sentence in <> is a offensive or hurtful sentence, If so, return 1; if not, return 0\")\n"
   ]
  },
  {
   "cell_type": "code",
   "execution_count": 95,
   "id": "835fbfe3",
   "metadata": {},
   "outputs": [
    {
     "name": "stderr",
     "output_type": "stream",
     "text": [
      "100%|██████████| 3198/3198 [06:18<00:00,  8.44it/s] \n"
     ]
    },
    {
     "data": {
      "text/plain": [
       "0.19701699618453"
      ]
     },
     "execution_count": 95,
     "metadata": {},
     "output_type": "execute_result"
    }
   ],
   "source": [
    "get_result_dev(new_dev,\"Please determine whether the sentence in <> dismisses or invalidates someone's feelings or experiences, If so, return 1; if not, return 0\")\n"
   ]
  },
  {
   "cell_type": "code",
   "execution_count": 103,
   "id": "de3f64e3",
   "metadata": {},
   "outputs": [
    {
     "name": "stderr",
     "output_type": "stream",
     "text": [
      "100%|██████████| 3198/3198 [05:02<00:00, 10.56it/s] \n"
     ]
    },
    {
     "data": {
      "text/plain": [
       "0"
      ]
     },
     "execution_count": 103,
     "metadata": {},
     "output_type": "execute_result"
    }
   ],
   "source": [
    "get_result_dev(new_dev,\"Please determine whether the sentence in <> is just a plain description without strong emotional color. If so, return 0; if not, return 1\")\n"
   ]
  },
  {
   "cell_type": "code",
   "execution_count": 105,
   "id": "58113bac",
   "metadata": {},
   "outputs": [
    {
     "name": "stderr",
     "output_type": "stream",
     "text": [
      "100%|██████████| 3198/3198 [04:29<00:00, 11.86it/s] \n"
     ]
    },
    {
     "data": {
      "text/plain": [
       "0.18204106650321789"
      ]
     },
     "execution_count": 105,
     "metadata": {},
     "output_type": "execute_result"
    }
   ],
   "source": [
    "get_result_dev(new_dev,\"Please determine whether the sentence in <> made by a person with criminal tendencies, If so, return 1; if not, return 0\")\n"
   ]
  },
  {
   "cell_type": "code",
   "execution_count": 106,
   "id": "cdc50ab3",
   "metadata": {},
   "outputs": [
    {
     "name": "stderr",
     "output_type": "stream",
     "text": [
      "100%|██████████| 3198/3198 [05:50<00:00,  9.12it/s]\n"
     ]
    },
    {
     "data": {
      "text/plain": [
       "0"
      ]
     },
     "execution_count": 106,
     "metadata": {},
     "output_type": "execute_result"
    }
   ],
   "source": [
    "get_result_dev(new_dev,\"Please determine whether the sentence in <> would be said by a genteel person., If so, return 0; if not, return 1\")\n"
   ]
  },
  {
   "cell_type": "code",
   "execution_count": 113,
   "id": "b8b21cb9",
   "metadata": {},
   "outputs": [
    {
     "name": "stderr",
     "output_type": "stream",
     "text": [
      "100%|██████████| 3198/3198 [05:09<00:00, 10.35it/s]\n"
     ]
    },
    {
     "data": {
      "text/plain": [
       "0.16146645865834633"
      ]
     },
     "execution_count": 113,
     "metadata": {},
     "output_type": "execute_result"
    }
   ],
   "source": [
    "get_result_dev(new_dev,\"Please determine whether the sentence in <> will blame someone and make them unhappy. If so, return 1; if not, return 0\")\n"
   ]
  },
  {
   "cell_type": "code",
   "execution_count": 108,
   "id": "5e7b49c2",
   "metadata": {},
   "outputs": [
    {
     "name": "stderr",
     "output_type": "stream",
     "text": [
      "100%|██████████| 3198/3198 [03:40<00:00, 14.48it/s]\n"
     ]
    },
    {
     "data": {
      "text/plain": [
       "0.17207792207792208"
      ]
     },
     "execution_count": 108,
     "metadata": {},
     "output_type": "execute_result"
    }
   ],
   "source": [
    "get_result_dev(new_dev,\"Please determine whether people would become angry or discouraged after hearing the sentence in <>. If so, return 1; if not, return 0\")\n"
   ]
  },
  {
   "cell_type": "code",
   "execution_count": 109,
   "id": "882f0967",
   "metadata": {},
   "outputs": [
    {
     "name": "stderr",
     "output_type": "stream",
     "text": [
      "100%|██████████| 3198/3198 [04:55<00:00, 10.83it/s]\n"
     ]
    },
    {
     "data": {
      "text/plain": [
       "0.1798463624039765"
      ]
     },
     "execution_count": 109,
     "metadata": {},
     "output_type": "execute_result"
    }
   ],
   "source": [
    "get_result_dev(new_dev,\"Please determine whether the content in <> is more likely to be said by a person with a bad temper. If so, return 1; if not, return 0\")\n"
   ]
  },
  {
   "cell_type": "code",
   "execution_count": 110,
   "id": "013ac8bc",
   "metadata": {},
   "outputs": [
    {
     "name": "stderr",
     "output_type": "stream",
     "text": [
      "100%|██████████| 3198/3198 [06:00<00:00,  8.87it/s]\n"
     ]
    },
    {
     "data": {
      "text/plain": [
       "0.20331186752529898"
      ]
     },
     "execution_count": 110,
     "metadata": {},
     "output_type": "execute_result"
    }
   ],
   "source": [
    "get_result_dev(new_dev,\"Please determine whether the sentence in <> is a toxic sentence, If so, return 1; if not, return 0\")\n"
   ]
  },
  {
   "cell_type": "code",
   "execution_count": 111,
   "id": "fe76ee63",
   "metadata": {},
   "outputs": [
    {
     "name": "stderr",
     "output_type": "stream",
     "text": [
      "100%|██████████| 3198/3198 [05:54<00:00,  9.03it/s]\n"
     ]
    },
    {
     "data": {
      "text/plain": [
       "0.15384615384615383"
      ]
     },
     "execution_count": 111,
     "metadata": {},
     "output_type": "execute_result"
    }
   ],
   "source": [
    "get_result_dev(new_dev,\"Please determine whether the sentence in <> would cause tension in the relationship between people., If so, return 1; if not, return 0\")\n"
   ]
  },
  {
   "cell_type": "code",
   "execution_count": null,
   "id": "195b280f",
   "metadata": {},
   "outputs": [],
   "source": []
  },
  {
   "cell_type": "code",
   "execution_count": null,
   "id": "d343e55f",
   "metadata": {},
   "outputs": [],
   "source": []
  },
  {
   "cell_type": "code",
   "execution_count": null,
   "id": "e75cbbf9",
   "metadata": {},
   "outputs": [],
   "source": []
  },
  {
   "cell_type": "markdown",
   "id": "257d9324",
   "metadata": {},
   "source": [
    "### Problem 3 Zero-shot Learning with small model for test dataset"
   ]
  },
  {
   "cell_type": "code",
   "execution_count": 112,
   "id": "0db53d1f",
   "metadata": {},
   "outputs": [],
   "source": [
    "#I will use the prompt got the highest F1 score before."
   ]
  },
  {
   "cell_type": "code",
   "execution_count": 127,
   "id": "6add7f67",
   "metadata": {},
   "outputs": [
    {
     "data": {
      "text/html": [
       "<div>\n",
       "<style scoped>\n",
       "    .dataframe tbody tr th:only-of-type {\n",
       "        vertical-align: middle;\n",
       "    }\n",
       "\n",
       "    .dataframe tbody tr th {\n",
       "        vertical-align: top;\n",
       "    }\n",
       "\n",
       "    .dataframe thead th {\n",
       "        text-align: right;\n",
       "    }\n",
       "</style>\n",
       "<table border=\"1\" class=\"dataframe\">\n",
       "  <thead>\n",
       "    <tr style=\"text-align: right;\">\n",
       "      <th></th>\n",
       "      <th>id</th>\n",
       "      <th>comment_text</th>\n",
       "    </tr>\n",
       "  </thead>\n",
       "  <tbody>\n",
       "    <tr>\n",
       "      <th>0</th>\n",
       "      <td>d9836e25d089cab8</td>\n",
       "      <td>&lt;I suggest you add this to the LARPA wiki inst...</td>\n",
       "    </tr>\n",
       "    <tr>\n",
       "      <th>1</th>\n",
       "      <td>3fbed19498484f71</td>\n",
       "      <td>&lt;, 19 May 2008 (UTC) \\n ::The AFD is truly sad...</td>\n",
       "    </tr>\n",
       "    <tr>\n",
       "      <th>2</th>\n",
       "      <td>be887f0617e43898</td>\n",
       "      <td>&lt;===Train name, misnomer=== \\n The problem is ...</td>\n",
       "    </tr>\n",
       "    <tr>\n",
       "      <th>3</th>\n",
       "      <td>ddb1781c5174e079</td>\n",
       "      <td>&lt;March 2006&gt;</td>\n",
       "    </tr>\n",
       "    <tr>\n",
       "      <th>4</th>\n",
       "      <td>6f04966e1d4d2b61</td>\n",
       "      <td>&lt;unfair warnings as threats&gt;</td>\n",
       "    </tr>\n",
       "  </tbody>\n",
       "</table>\n",
       "</div>"
      ],
      "text/plain": [
       "                 id                                       comment_text\n",
       "0  d9836e25d089cab8  <I suggest you add this to the LARPA wiki inst...\n",
       "1  3fbed19498484f71  <, 19 May 2008 (UTC) \\n ::The AFD is truly sad...\n",
       "2  be887f0617e43898  <===Train name, misnomer=== \\n The problem is ...\n",
       "3  ddb1781c5174e079                                       <March 2006>\n",
       "4  6f04966e1d4d2b61                       <unfair warnings as threats>"
      ]
     },
     "execution_count": 127,
     "metadata": {},
     "output_type": "execute_result"
    }
   ],
   "source": [
    "test.head()"
   ]
  },
  {
   "cell_type": "code",
   "execution_count": 128,
   "id": "580a4bd3",
   "metadata": {},
   "outputs": [],
   "source": [
    "def get_new(row):\n",
    "    row[\"comment_text\"] = \"<\" + row[\"comment_text\"] + \">\"\n",
    "    return row\n",
    "\n",
    "\n",
    "new_test_zero_shot = test.apply(get_new,axis=\"columns\")"
   ]
  },
  {
   "cell_type": "code",
   "execution_count": 129,
   "id": "fb0f9714",
   "metadata": {},
   "outputs": [
    {
     "name": "stderr",
     "output_type": "stream",
     "text": [
      "100%|██████████| 32009/32009 [45:03<00:00, 11.84it/s]  \n"
     ]
    }
   ],
   "source": [
    "list_zero_test = []\n",
    "for i in tqdm(range(len(new_test_zero_shot))):\n",
    "    input_text = new_test_zero_shot[\"comment_text\"][i] + \"Please determine whether the sentence in <> is a toxic sentence. If so, return 1; if not, return 0\"\n",
    "    result = inference(input_text)\n",
    "    try:\n",
    "        list_zero_test.append(int(result))\n",
    "    except:\n",
    "        list_zero_test.append(0)\n"
   ]
  },
  {
   "cell_type": "code",
   "execution_count": 130,
   "id": "a00245b9",
   "metadata": {},
   "outputs": [],
   "source": [
    "zero_shot_result2 = test.assign(toxic = list_zero_test)"
   ]
  },
  {
   "cell_type": "code",
   "execution_count": 131,
   "id": "053606cf",
   "metadata": {},
   "outputs": [],
   "source": [
    "zero_shot_result2.to_csv(\"zero_shot_result.csv\",index = False)"
   ]
  },
  {
   "cell_type": "code",
   "execution_count": 132,
   "id": "a7f5d380",
   "metadata": {},
   "outputs": [
    {
     "data": {
      "text/html": [
       "<div>\n",
       "<style scoped>\n",
       "    .dataframe tbody tr th:only-of-type {\n",
       "        vertical-align: middle;\n",
       "    }\n",
       "\n",
       "    .dataframe tbody tr th {\n",
       "        vertical-align: top;\n",
       "    }\n",
       "\n",
       "    .dataframe thead th {\n",
       "        text-align: right;\n",
       "    }\n",
       "</style>\n",
       "<table border=\"1\" class=\"dataframe\">\n",
       "  <thead>\n",
       "    <tr style=\"text-align: right;\">\n",
       "      <th></th>\n",
       "      <th>id</th>\n",
       "      <th>comment_text</th>\n",
       "      <th>toxic</th>\n",
       "    </tr>\n",
       "  </thead>\n",
       "  <tbody>\n",
       "    <tr>\n",
       "      <th>0</th>\n",
       "      <td>d9836e25d089cab8</td>\n",
       "      <td>&lt;&lt;I suggest you add this to the LARPA wiki ins...</td>\n",
       "      <td>0</td>\n",
       "    </tr>\n",
       "    <tr>\n",
       "      <th>1</th>\n",
       "      <td>3fbed19498484f71</td>\n",
       "      <td>&lt;&lt;, 19 May 2008 (UTC) \\n ::The AFD is truly sa...</td>\n",
       "      <td>1</td>\n",
       "    </tr>\n",
       "    <tr>\n",
       "      <th>2</th>\n",
       "      <td>be887f0617e43898</td>\n",
       "      <td>&lt;&lt;===Train name, misnomer=== \\n The problem is...</td>\n",
       "      <td>1</td>\n",
       "    </tr>\n",
       "    <tr>\n",
       "      <th>3</th>\n",
       "      <td>ddb1781c5174e079</td>\n",
       "      <td>&lt;&lt;March 2006&gt;&gt;</td>\n",
       "      <td>0</td>\n",
       "    </tr>\n",
       "    <tr>\n",
       "      <th>4</th>\n",
       "      <td>6f04966e1d4d2b61</td>\n",
       "      <td>&lt;&lt;unfair warnings as threats&gt;&gt;</td>\n",
       "      <td>0</td>\n",
       "    </tr>\n",
       "    <tr>\n",
       "      <th>...</th>\n",
       "      <td>...</td>\n",
       "      <td>...</td>\n",
       "      <td>...</td>\n",
       "    </tr>\n",
       "    <tr>\n",
       "      <th>32004</th>\n",
       "      <td>22abb35000de7828</td>\n",
       "      <td>&lt;&lt;== Motion Picture Association of America fil...</td>\n",
       "      <td>0</td>\n",
       "    </tr>\n",
       "    <tr>\n",
       "      <th>32005</th>\n",
       "      <td>834fd790ecbcf68f</td>\n",
       "      <td>&lt;&lt;\" \\n\\n ==WikiProject Pharmacology Update== \\...</td>\n",
       "      <td>1</td>\n",
       "    </tr>\n",
       "    <tr>\n",
       "      <th>32006</th>\n",
       "      <td>76417c0f552a71b2</td>\n",
       "      <td>&lt;&lt;That's nonsense. Most lists of Jews explicit...</td>\n",
       "      <td>0</td>\n",
       "    </tr>\n",
       "    <tr>\n",
       "      <th>32007</th>\n",
       "      <td>6c7c337a97b1d905</td>\n",
       "      <td>&lt;&lt;==References== \\n Removed Youtube link to V-...</td>\n",
       "      <td>1</td>\n",
       "    </tr>\n",
       "    <tr>\n",
       "      <th>32008</th>\n",
       "      <td>b287221057d59bb9</td>\n",
       "      <td>&lt;&lt;\" \\n ::Yeah, I know the research is still on...</td>\n",
       "      <td>0</td>\n",
       "    </tr>\n",
       "  </tbody>\n",
       "</table>\n",
       "<p>32009 rows × 3 columns</p>\n",
       "</div>"
      ],
      "text/plain": [
       "                     id                                       comment_text  \\\n",
       "0      d9836e25d089cab8  <<I suggest you add this to the LARPA wiki ins...   \n",
       "1      3fbed19498484f71  <<, 19 May 2008 (UTC) \\n ::The AFD is truly sa...   \n",
       "2      be887f0617e43898  <<===Train name, misnomer=== \\n The problem is...   \n",
       "3      ddb1781c5174e079                                     <<March 2006>>   \n",
       "4      6f04966e1d4d2b61                     <<unfair warnings as threats>>   \n",
       "...                 ...                                                ...   \n",
       "32004  22abb35000de7828  <<== Motion Picture Association of America fil...   \n",
       "32005  834fd790ecbcf68f  <<\" \\n\\n ==WikiProject Pharmacology Update== \\...   \n",
       "32006  76417c0f552a71b2  <<That's nonsense. Most lists of Jews explicit...   \n",
       "32007  6c7c337a97b1d905  <<==References== \\n Removed Youtube link to V-...   \n",
       "32008  b287221057d59bb9  <<\" \\n ::Yeah, I know the research is still on...   \n",
       "\n",
       "       toxic  \n",
       "0          0  \n",
       "1          1  \n",
       "2          1  \n",
       "3          0  \n",
       "4          0  \n",
       "...      ...  \n",
       "32004      0  \n",
       "32005      1  \n",
       "32006      0  \n",
       "32007      1  \n",
       "32008      0  \n",
       "\n",
       "[32009 rows x 3 columns]"
      ]
     },
     "execution_count": 132,
     "metadata": {},
     "output_type": "execute_result"
    }
   ],
   "source": [
    "zero_shot_result2"
   ]
  },
  {
   "cell_type": "code",
   "execution_count": null,
   "id": "b24f92d7",
   "metadata": {},
   "outputs": [],
   "source": []
  },
  {
   "cell_type": "code",
   "execution_count": null,
   "id": "f038cba4",
   "metadata": {},
   "outputs": [],
   "source": []
  },
  {
   "cell_type": "code",
   "execution_count": null,
   "id": "eaccc28f",
   "metadata": {},
   "outputs": [],
   "source": []
  },
  {
   "cell_type": "code",
   "execution_count": null,
   "id": "f585895d",
   "metadata": {},
   "outputs": [],
   "source": []
  },
  {
   "cell_type": "code",
   "execution_count": null,
   "id": "461ebd2b",
   "metadata": {},
   "outputs": [],
   "source": []
  },
  {
   "cell_type": "markdown",
   "id": "90063257",
   "metadata": {},
   "source": [
    "### Problem 4"
   ]
  },
  {
   "cell_type": "code",
   "execution_count": 3,
   "id": "ec620154",
   "metadata": {},
   "outputs": [],
   "source": [
    "from transformers import Trainer, TrainingArguments, RobertaTokenizer, RobertaForSequenceClassification, AutoTokenizer\n",
    "from transformers import AutoModelForSequenceClassification, TrainingArguments, Trainer\n",
    "import pandas as pd\n",
    "import torch\n",
    "import numpy as np"
   ]
  },
  {
   "cell_type": "code",
   "execution_count": 4,
   "id": "85155573",
   "metadata": {},
   "outputs": [],
   "source": [
    "train_dataset = pd.read_csv(\"jigsaw-train.csv\")\n",
    "eval_dataset = pd.read_csv(\"jigsaw-dev.csv\")\n",
    "\n",
    "train_dataset = train_dataset[[\"comment_text\",\"toxic\"]]\n",
    "eval_dataset = eval_dataset[[\"comment_text\",\"toxic\"]]\n",
    "\n",
    "train_dataset = train_dataset.rename(columns={'comment_text': 'text', 'toxic': 'score'})\n",
    "eval_dataset = eval_dataset.rename(columns={'comment_text': 'text', 'toxic': 'score'})"
   ]
  },
  {
   "cell_type": "code",
   "execution_count": 5,
   "id": "4870ac26",
   "metadata": {},
   "outputs": [],
   "source": [
    "from datasets import Dataset\n",
    "train_dataset = Dataset.from_pandas(train_dataset)\n",
    "eval_dataset = Dataset.from_pandas(eval_dataset)"
   ]
  },
  {
   "cell_type": "code",
   "execution_count": 6,
   "id": "74633cbb",
   "metadata": {},
   "outputs": [
    {
     "name": "stderr",
     "output_type": "stream",
     "text": [
      "Some weights of BertForSequenceClassification were not initialized from the model checkpoint at microsoft/MiniLM-L12-H384-uncased and are newly initialized: ['classifier.bias', 'classifier.weight']\n",
      "You should probably TRAIN this model on a down-stream task to be able to use it for predictions and inference.\n"
     ]
    }
   ],
   "source": [
    "from transformers import AutoTokenizer, AutoModelForSequenceClassification, DataCollatorWithPadding\n",
    "from torch.utils.data import DataLoader\n",
    "\n",
    "BASE_MODEL = \"microsoft/MiniLM-L12-H384-uncased\"\n",
    "LEARNING_RATE = 1e-2\n",
    "MAX_LENGTH = 256\n",
    "BATCH_SIZE = 8\n",
    "EPOCHS = 2\n",
    "\n",
    "tokenizer = AutoTokenizer.from_pretrained(BASE_MODEL)\n",
    "model = AutoModelForSequenceClassification.from_pretrained(BASE_MODEL, num_labels=2, ignore_mismatched_sizes=True)"
   ]
  },
  {
   "cell_type": "code",
   "execution_count": 7,
   "id": "5668bbc0",
   "metadata": {},
   "outputs": [
    {
     "data": {
      "application/vnd.jupyter.widget-view+json": {
       "model_id": "",
       "version_major": 2,
       "version_minor": 0
      },
      "text/plain": [
       "Map:   0%|          | 0/159571 [00:00<?, ? examples/s]"
      ]
     },
     "metadata": {},
     "output_type": "display_data"
    },
    {
     "data": {
      "application/vnd.jupyter.widget-view+json": {
       "model_id": "",
       "version_major": 2,
       "version_minor": 0
      },
      "text/plain": [
       "Map:   0%|          | 0/31969 [00:00<?, ? examples/s]"
      ]
     },
     "metadata": {},
     "output_type": "display_data"
    }
   ],
   "source": [
    "ds = {\"train\": train_dataset, \"test\": eval_dataset}\n",
    "\n",
    "def preprocess_function(examples):\n",
    "    label = examples[\"score\"] \n",
    "    examples = tokenizer(examples[\"text\"], truncation=True, padding=\"max_length\", max_length=256)\n",
    "    \n",
    "    # Change this to real number\n",
    "    examples[\"label\"] = label\n",
    "    return examples\n",
    "\n",
    "for split in ds:\n",
    "    ds[split] = ds[split].map(preprocess_function, remove_columns=[\"text\", \"score\"])"
   ]
  },
  {
   "cell_type": "code",
   "execution_count": 48,
   "id": "93f6d05e",
   "metadata": {},
   "outputs": [],
   "source": [
    "# import numpy as np\n",
    "# from datasets import load_metric\n",
    "\n",
    "# metric = load_metric(\"accuracy\")\n",
    "\n",
    "# def compute_metrics(eval_pred):\n",
    "#     logits, labels = eval_pred\n",
    "#     predictions = np.argmax(logits, axis=-1)\n",
    "#     return metric.compute(predictions=predictions, references=labels)  "
   ]
  },
  {
   "cell_type": "code",
   "execution_count": 8,
   "id": "ef58cbd9",
   "metadata": {},
   "outputs": [
    {
     "name": "stderr",
     "output_type": "stream",
     "text": [
      "/tmp/ipykernel_1143549/2226873423.py:2: FutureWarning: load_metric is deprecated and will be removed in the next major version of datasets. Use 'evaluate.load' instead, from the new library 🤗 Evaluate: https://huggingface.co/docs/evaluate\n",
      "  metric1 = load_metric(\"precision\")\n"
     ]
    }
   ],
   "source": [
    "from datasets import load_metric\n",
    "metric1 = load_metric(\"precision\")\n",
    "metric2 = load_metric(\"recall\")\n",
    "metric3 = load_metric(\"f1\")\n",
    "metric = load_metric('accuracy')\n",
    "\n",
    "def compute_metrics(eval_pred):\n",
    "    metric1 = load_metric(\"precision\")\n",
    "    metric2 = load_metric(\"recall\")\n",
    "    metric3 = load_metric(\"f1\")\n",
    "    metric4 = load_metric(\"accuracy\")\n",
    "\n",
    "    logits, labels = eval_pred\n",
    "    predictions = np.argmax(logits, axis=-1)\n",
    "    precision = metric1.compute(predictions=predictions, references=labels)[\"precision\"]\n",
    "    recall = metric2.compute(predictions=predictions, references=labels)[\"recall\"]\n",
    "    f1 = metric3.compute(predictions=predictions, references=labels)[\"f1\"]\n",
    "    accuracy = metric4.compute(predictions=predictions, references=labels)[\"accuracy\"]\n",
    "    return {\"precision\": precision, \"recall\": recall, \"f1\": f1, \"accuracy\": accuracy}"
   ]
  },
  {
   "cell_type": "code",
   "execution_count": 9,
   "id": "3cb1bc40",
   "metadata": {},
   "outputs": [],
   "source": [
    "from transformers import TrainingArguments, Trainer\n",
    "\n",
    "training_args = TrainingArguments(\n",
    "    output_dir=\"SI630\",  # output directory\n",
    "    learning_rate=1e-5,\n",
    "    num_train_epochs=2,  # total number of training epochs\n",
    "    per_device_train_batch_size=BATCH_SIZE,  # batch size per device during training\n",
    "    per_device_eval_batch_size=BATCH_SIZE,  # batch size for evaluation\n",
    "    weight_decay=0.01,  # strength of weight decay\n",
    "    do_eval=True,\n",
    "    report_to=\"none\",\n",
    "    evaluation_strategy=\"steps\",\n",
    "    eval_steps=2000,\n",
    ")"
   ]
  },
  {
   "cell_type": "code",
   "execution_count": 10,
   "id": "c300eae5",
   "metadata": {},
   "outputs": [
    {
     "name": "stderr",
     "output_type": "stream",
     "text": [
      "/home/kuminia/.local/lib/python3.9/site-packages/transformers/optimization.py:391: FutureWarning: This implementation of AdamW is deprecated and will be removed in a future version. Use the PyTorch implementation torch.optim.AdamW instead, or set `no_deprecation_warning=True` to disable this warning\n",
      "  warnings.warn(\n"
     ]
    },
    {
     "data": {
      "text/html": [
       "\n",
       "    <div>\n",
       "      \n",
       "      <progress value='39894' max='39894' style='width:300px; height:20px; vertical-align: middle;'></progress>\n",
       "      [39894/39894 1:12:12, Epoch 2/2]\n",
       "    </div>\n",
       "    <table border=\"1\" class=\"dataframe\">\n",
       "  <thead>\n",
       " <tr style=\"text-align: left;\">\n",
       "      <th>Step</th>\n",
       "      <th>Training Loss</th>\n",
       "      <th>Validation Loss</th>\n",
       "      <th>Precision</th>\n",
       "      <th>Recall</th>\n",
       "      <th>F1</th>\n",
       "      <th>Accuracy</th>\n",
       "    </tr>\n",
       "  </thead>\n",
       "  <tbody>\n",
       "    <tr>\n",
       "      <td>2000</td>\n",
       "      <td>0.141200</td>\n",
       "      <td>0.280085</td>\n",
       "      <td>0.545512</td>\n",
       "      <td>0.842741</td>\n",
       "      <td>0.662308</td>\n",
       "      <td>0.917608</td>\n",
       "    </tr>\n",
       "    <tr>\n",
       "      <td>4000</td>\n",
       "      <td>0.128200</td>\n",
       "      <td>0.267898</td>\n",
       "      <td>0.586301</td>\n",
       "      <td>0.843393</td>\n",
       "      <td>0.691731</td>\n",
       "      <td>0.927930</td>\n",
       "    </tr>\n",
       "    <tr>\n",
       "      <td>6000</td>\n",
       "      <td>0.135900</td>\n",
       "      <td>0.266887</td>\n",
       "      <td>0.524741</td>\n",
       "      <td>0.909951</td>\n",
       "      <td>0.665632</td>\n",
       "      <td>0.912353</td>\n",
       "    </tr>\n",
       "    <tr>\n",
       "      <td>8000</td>\n",
       "      <td>0.124300</td>\n",
       "      <td>0.254966</td>\n",
       "      <td>0.586792</td>\n",
       "      <td>0.858075</td>\n",
       "      <td>0.696966</td>\n",
       "      <td>0.928462</td>\n",
       "    </tr>\n",
       "    <tr>\n",
       "      <td>10000</td>\n",
       "      <td>0.133900</td>\n",
       "      <td>0.397090</td>\n",
       "      <td>0.490220</td>\n",
       "      <td>0.932137</td>\n",
       "      <td>0.642528</td>\n",
       "      <td>0.900560</td>\n",
       "    </tr>\n",
       "    <tr>\n",
       "      <td>12000</td>\n",
       "      <td>0.121400</td>\n",
       "      <td>0.314745</td>\n",
       "      <td>0.507254</td>\n",
       "      <td>0.923980</td>\n",
       "      <td>0.654949</td>\n",
       "      <td>0.906660</td>\n",
       "    </tr>\n",
       "    <tr>\n",
       "      <td>14000</td>\n",
       "      <td>0.119300</td>\n",
       "      <td>0.325791</td>\n",
       "      <td>0.571398</td>\n",
       "      <td>0.873409</td>\n",
       "      <td>0.690839</td>\n",
       "      <td>0.925052</td>\n",
       "    </tr>\n",
       "    <tr>\n",
       "      <td>16000</td>\n",
       "      <td>0.111100</td>\n",
       "      <td>0.275711</td>\n",
       "      <td>0.544204</td>\n",
       "      <td>0.903752</td>\n",
       "      <td>0.679338</td>\n",
       "      <td>0.918202</td>\n",
       "    </tr>\n",
       "    <tr>\n",
       "      <td>18000</td>\n",
       "      <td>0.101000</td>\n",
       "      <td>0.339006</td>\n",
       "      <td>0.557743</td>\n",
       "      <td>0.896574</td>\n",
       "      <td>0.687688</td>\n",
       "      <td>0.921924</td>\n",
       "    </tr>\n",
       "    <tr>\n",
       "      <td>20000</td>\n",
       "      <td>0.106300</td>\n",
       "      <td>0.321301</td>\n",
       "      <td>0.541323</td>\n",
       "      <td>0.921044</td>\n",
       "      <td>0.681884</td>\n",
       "      <td>0.917608</td>\n",
       "    </tr>\n",
       "    <tr>\n",
       "      <td>22000</td>\n",
       "      <td>0.101300</td>\n",
       "      <td>0.350436</td>\n",
       "      <td>0.516152</td>\n",
       "      <td>0.927896</td>\n",
       "      <td>0.663324</td>\n",
       "      <td>0.909694</td>\n",
       "    </tr>\n",
       "    <tr>\n",
       "      <td>24000</td>\n",
       "      <td>0.107500</td>\n",
       "      <td>0.335844</td>\n",
       "      <td>0.543164</td>\n",
       "      <td>0.907341</td>\n",
       "      <td>0.679536</td>\n",
       "      <td>0.917952</td>\n",
       "    </tr>\n",
       "    <tr>\n",
       "      <td>26000</td>\n",
       "      <td>0.092100</td>\n",
       "      <td>0.347856</td>\n",
       "      <td>0.522736</td>\n",
       "      <td>0.922675</td>\n",
       "      <td>0.667375</td>\n",
       "      <td>0.911821</td>\n",
       "    </tr>\n",
       "    <tr>\n",
       "      <td>28000</td>\n",
       "      <td>0.103700</td>\n",
       "      <td>0.301719</td>\n",
       "      <td>0.571821</td>\n",
       "      <td>0.881892</td>\n",
       "      <td>0.693789</td>\n",
       "      <td>0.925365</td>\n",
       "    </tr>\n",
       "    <tr>\n",
       "      <td>30000</td>\n",
       "      <td>0.091600</td>\n",
       "      <td>0.314109</td>\n",
       "      <td>0.551211</td>\n",
       "      <td>0.906036</td>\n",
       "      <td>0.685425</td>\n",
       "      <td>0.920267</td>\n",
       "    </tr>\n",
       "    <tr>\n",
       "      <td>32000</td>\n",
       "      <td>0.097100</td>\n",
       "      <td>0.350623</td>\n",
       "      <td>0.529733</td>\n",
       "      <td>0.918434</td>\n",
       "      <td>0.671918</td>\n",
       "      <td>0.914010</td>\n",
       "    </tr>\n",
       "    <tr>\n",
       "      <td>34000</td>\n",
       "      <td>0.101900</td>\n",
       "      <td>0.273964</td>\n",
       "      <td>0.565552</td>\n",
       "      <td>0.888091</td>\n",
       "      <td>0.691038</td>\n",
       "      <td>0.923864</td>\n",
       "    </tr>\n",
       "    <tr>\n",
       "      <td>36000</td>\n",
       "      <td>0.113800</td>\n",
       "      <td>0.341631</td>\n",
       "      <td>0.534542</td>\n",
       "      <td>0.913866</td>\n",
       "      <td>0.674533</td>\n",
       "      <td>0.915449</td>\n",
       "    </tr>\n",
       "    <tr>\n",
       "      <td>38000</td>\n",
       "      <td>0.101000</td>\n",
       "      <td>0.309781</td>\n",
       "      <td>0.562128</td>\n",
       "      <td>0.892985</td>\n",
       "      <td>0.689942</td>\n",
       "      <td>0.923050</td>\n",
       "    </tr>\n",
       "  </tbody>\n",
       "</table><p>"
      ],
      "text/plain": [
       "<IPython.core.display.HTML object>"
      ]
     },
     "metadata": {},
     "output_type": "display_data"
    },
    {
     "name": "stderr",
     "output_type": "stream",
     "text": [
      "IOPub message rate exceeded.\n",
      "The notebook server will temporarily stop sending output\n",
      "to the client in order to avoid crashing it.\n",
      "To change this limit, set the config variable\n",
      "`--NotebookApp.iopub_msg_rate_limit`.\n",
      "\n",
      "Current values:\n",
      "NotebookApp.iopub_msg_rate_limit=1000.0 (msgs/sec)\n",
      "NotebookApp.rate_limit_window=3.0 (secs)\n",
      "\n",
      "IOPub message rate exceeded.\n",
      "The notebook server will temporarily stop sending output\n",
      "to the client in order to avoid crashing it.\n",
      "To change this limit, set the config variable\n",
      "`--NotebookApp.iopub_msg_rate_limit`.\n",
      "\n",
      "Current values:\n",
      "NotebookApp.iopub_msg_rate_limit=1000.0 (msgs/sec)\n",
      "NotebookApp.rate_limit_window=3.0 (secs)\n",
      "\n",
      "IOPub message rate exceeded.\n",
      "The notebook server will temporarily stop sending output\n",
      "to the client in order to avoid crashing it.\n",
      "To change this limit, set the config variable\n",
      "`--NotebookApp.iopub_msg_rate_limit`.\n",
      "\n",
      "Current values:\n",
      "NotebookApp.iopub_msg_rate_limit=1000.0 (msgs/sec)\n",
      "NotebookApp.rate_limit_window=3.0 (secs)\n",
      "\n"
     ]
    },
    {
     "data": {
      "text/plain": [
       "TrainOutput(global_step=39894, training_loss=0.11436075472667975, metrics={'train_runtime': 4352.6899, 'train_samples_per_second': 73.321, 'train_steps_per_second': 9.165, 'total_flos': 1.0511377416701952e+16, 'train_loss': 0.11436075472667975, 'epoch': 2.0})"
      ]
     },
     "execution_count": 10,
     "metadata": {},
     "output_type": "execute_result"
    }
   ],
   "source": [
    "from transformers import Trainer\n",
    "\n",
    "trainer = Trainer(\n",
    "    model=model,\n",
    "    args=training_args,\n",
    "    train_dataset=ds[\"train\"],\n",
    "    eval_dataset=ds[\"test\"],\n",
    "    compute_metrics=compute_metrics,\n",
    ")\n",
    "\n",
    "trainer.train()"
   ]
  },
  {
   "cell_type": "code",
   "execution_count": 11,
   "id": "0624c8e4",
   "metadata": {},
   "outputs": [
    {
     "data": {
      "text/html": [
       "\n",
       "    <div>\n",
       "      \n",
       "      <progress value='3997' max='3997' style='width:300px; height:20px; vertical-align: middle;'></progress>\n",
       "      [3997/3997 01:12]\n",
       "    </div>\n",
       "    "
      ],
      "text/plain": [
       "<IPython.core.display.HTML object>"
      ]
     },
     "metadata": {},
     "output_type": "display_data"
    },
    {
     "data": {
      "text/plain": [
       "{'eval_loss': 0.31719914078712463,\n",
       " 'eval_precision': 0.5514632689627712,\n",
       " 'eval_recall': 0.9037520391517129,\n",
       " 'eval_f1': 0.684965380811078,\n",
       " 'eval_accuracy': 0.9202977884825925,\n",
       " 'eval_runtime': 74.6501,\n",
       " 'eval_samples_per_second': 428.251,\n",
       " 'eval_steps_per_second': 53.543,\n",
       " 'epoch': 2.0}"
      ]
     },
     "execution_count": 11,
     "metadata": {},
     "output_type": "execute_result"
    }
   ],
   "source": [
    "trainer.evaluate()"
   ]
  },
  {
   "cell_type": "code",
   "execution_count": null,
   "id": "990c5e02",
   "metadata": {},
   "outputs": [],
   "source": []
  },
  {
   "cell_type": "code",
   "execution_count": null,
   "id": "0b299d94",
   "metadata": {},
   "outputs": [],
   "source": []
  },
  {
   "cell_type": "code",
   "execution_count": null,
   "id": "26219ac4",
   "metadata": {},
   "outputs": [],
   "source": []
  },
  {
   "cell_type": "code",
   "execution_count": null,
   "id": "d7cc6da2",
   "metadata": {},
   "outputs": [],
   "source": []
  },
  {
   "cell_type": "code",
   "execution_count": null,
   "id": "8dad7975",
   "metadata": {},
   "outputs": [],
   "source": []
  },
  {
   "cell_type": "markdown",
   "id": "cf59e0ff",
   "metadata": {},
   "source": [
    "## Plot and conclusion"
   ]
  },
  {
   "cell_type": "code",
   "execution_count": 14,
   "id": "d65a5635",
   "metadata": {},
   "outputs": [
    {
     "data": {
      "image/png": "[encoded data removed]",
      "text/plain": [
       "<Figure size 432x288 with 1 Axes>"
      ]
     },
     "metadata": {},
     "output_type": "display_data"
    }
   ],
   "source": [
    "import seaborn as sns\n",
    "import matplotlib.pyplot as plt\n",
    "\n",
    "sns.set_style(\"darkgrid\")\n",
    "\n",
    "few_shot_train_size = [10,50,100,500]\n",
    "few_shot_prompt1 = [0.204,0.251,0.387,0.346]\n",
    "few_shot_prompt2 = [0.217,0.309,0.404,0.6]\n",
    "few_shot_prompt3 = [0.247,0.371,0.408,0.534]\n",
    "few_shot_prompt4 = [0.266,0.357,0.473,0.551]\n",
    "few_shot_prompt5 = [0.085,0.4,0.334,0.568]\n",
    "few_shot_prompt6 = [0.135,0.229,0.473,0.565]\n",
    "few_shot_prompt7 = [0.222,0.369,0.505,0.489]\n",
    "few_shot_prompt8 = [0.114,0.164,0.556,0.485]\n",
    "few_shot_prompt9 = [0.216,0.139,0.451,0.561]\n",
    "few_shot_prompt10 = [0.198,0.228,0.58,0.529]\n",
    "\n",
    "df = pd.DataFrame({\n",
    "    \"few_shot_train_size\": few_shot_train_size,\n",
    "    \"few_shot_prompt1\": few_shot_prompt1,\n",
    "    \"few_shot_prompt2\": few_shot_prompt2,\n",
    "    \"few_shot_prompt3\": few_shot_prompt3,\n",
    "    \"few_shot_prompt4\": few_shot_prompt4,\n",
    "    \"few_shot_prompt5\": few_shot_prompt5,\n",
    "    \"few_shot_prompt6\": few_shot_prompt6,\n",
    "    \"few_shot_prompt7\": few_shot_prompt7,\n",
    "    \"few_shot_prompt8\": few_shot_prompt8,\n",
    "    \"few_shot_prompt9\": few_shot_prompt9,\n",
    "    \"few_shot_prompt10\": few_shot_prompt10,\n",
    "})\n",
    "\n",
    "df_melted = pd.melt(df, id_vars=\"few_shot_train_size\", var_name=\"prompt\", value_name=\"F1 score\")\n",
    "\n",
    "sns.lineplot(x=\"few_shot_train_size\", y=\"F1 score\", hue=\"prompt\", data=df_melted)\n",
    "\n",
    "plt.title(\"F1 score and Few-shot Train Size\")\n",
    "plt.xlabel(\"Few-shot Train Size\")\n",
    "plt.ylabel(\"F1 score\")\n",
    "\n",
    "plt.show()"
   ]
  },
  {
   "cell_type": "code",
   "execution_count": 19,
   "id": "05db881c",
   "metadata": {},
   "outputs": [
    {
     "data": {
      "image/png": "[encoded data removed]",
      "text/plain": [
       "<Figure size 432x288 with 1 Axes>"
      ]
     },
     "metadata": {},
     "output_type": "display_data"
    }
   ],
   "source": [
    "sns.set_style(\"darkgrid\")\n",
    "\n",
    "prompts = range(1,11)\n",
    "zero_shot_prompts_result = [0.178,0.197,0,0.182,0,0.161,0.172,0.18,0.203,0.154]\n",
    "\n",
    "df = pd.DataFrame({\n",
    "    \"prompts\": prompts,\n",
    "    \"zero_shot_prompts_result\": zero_shot_prompts_result,\n",
    "})\n",
    "\n",
    "sns.barplot(x=\"prompts\", y=\"zero_shot_prompts_result\", data=df)\n",
    "\n",
    "plt.title(\"Zero-shot Prompt Results\")\n",
    "plt.xlabel(\"Prompts\")\n",
    "plt.ylabel(\"F1 score\")\n",
    "\n",
    "plt.show()"
   ]
  },
  {
   "cell_type": "code",
   "execution_count": 49,
   "id": "107d2443",
   "metadata": {},
   "outputs": [
    {
     "data": {
      "image/png": "[encoded data removed]",
      "text/plain": [
       "<Figure size 720x360 with 1 Axes>"
      ]
     },
     "metadata": {},
     "output_type": "display_data"
    }
   ],
   "source": [
    "sns.set_style(\"darkgrid\")\n",
    "\n",
    "step = list(range(2000, 40000, 2000))\n",
    "step.append(39894)\n",
    "Training_Loss = [0.1412,0.1282,0.1359,0.1243,0.1339,0.1214,0.1193,0.1111,0.101,0.1063,0.1013,0.1075,0.0921,0.1037,0.0916,0.0971,0.1019,0.1138,0.101,0.1144]\n",
    "F1_score = [0.662,0.692,0.666,0.7,0.643,0.655,0.691,0.679,0.688,0.682,0.663,0.680,0.667,0.694,0.685,0.672,0.691,0.675,0.690,0.685]\n",
    "\n",
    "data = {'step': step,\n",
    "        'Training Loss': Training_Loss,\n",
    "        'F1 Score': F1_score}\n",
    "\n",
    "df = pd.DataFrame(data)\n",
    "\n",
    "sns.set_style('darkgrid')\n",
    "fig, ax = plt.subplots(figsize=(10, 5))\n",
    "sns.lineplot(data=df, x='step', y='Training Loss', ax=ax, label='Training Loss')\n",
    "sns.lineplot(data=df, x='step', y='F1 Score', ax=ax, label='F1 Score')\n",
    "ax.set(xlabel='Step', ylabel='Value', title='Training Loss and F1 Score vs. Step')\n",
    "plt.show()\n"
   ]
  },
  {
   "cell_type": "code",
   "execution_count": null,
   "id": "cddfbb11",
   "metadata": {},
   "outputs": [],
   "source": []
  },
  {
   "cell_type": "code",
   "execution_count": null,
   "id": "ea0cbf14",
   "metadata": {},
   "outputs": [],
   "source": []
  },
  {
   "cell_type": "code",
   "execution_count": null,
   "id": "8c254193",
   "metadata": {},
   "outputs": [],
   "source": []
  }
 ],
 "metadata": {
  "kernelspec": {
   "display_name": "Python 3 (ipykernel)",
   "language": "python",
   "name": "python3"
  },
  "language_info": {
   "codemirror_mode": {
    "name": "ipython",
    "version": 3
   },
   "file_extension": ".py",
   "mimetype": "text/x-python",
   "name": "python",
   "nbconvert_exporter": "python",
   "pygments_lexer": "ipython3",
   "version": "3.9.7"
  }
 },
 "nbformat": 4,
 "nbformat_minor": 5
}
